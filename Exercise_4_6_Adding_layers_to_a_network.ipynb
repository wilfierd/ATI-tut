{
  "nbformat": 4,
  "nbformat_minor": 0,
  "metadata": {
    "colab": {
      "provenance": []
    },
    "kernelspec": {
      "name": "python3",
      "display_name": "Python 3"
    },
    "language_info": {
      "name": "python"
    }
  },
  "cells": [
    {
      "cell_type": "markdown",
      "source": [
        "## Exercise 4.6 Adding layers to a network"
      ],
      "metadata": {
        "id": "ApEGsGnec6BZ"
      }
    },
    {
      "cell_type": "markdown",
      "source": [
        "In this exercise, you will use the same titanic dataset from the previous exercises. You can download the dataset from the following link:\n",
        "\n",
        "[titanic_all_numeric.csv](https://drive.google.com/file/d/11nuYS-l3EXCsGJt81y4YTt3oTnFGaB68/view?usp=drive_link)\n",
        "\n",
        "The data is pre-loaded into a pandas DataFrame called `df`. The `predictors` and `target` values are also pre-defined.\n",
        "\n",
        "You've seen how to experiment with wider networks. In this exercise, you'll try a deeper network (more hidden layers).\n",
        "\n",
        "You will create two models, the first model, `model_1`, has a hidden layer with `10` units and an output layer. The second model, `model_2`, has three hidden layers (still keeping `10` units in each layer), and an outpul layer.\n",
        "\n",
        "So we say, `mode_2` is deeper than `model_1`.\n",
        "\n",
        "After you create `model_1` and `model_2`, both models will be fitted, and a graph showing both models loss score at each epoch will be shown. We added the argument `verbose=False` in the fitting commands to print out fewer updates, since you will look at these graphically instead of as text.\n",
        "\n",
        "This will again take a moment to fit both models, so you'll need to wait a few seconds to see the results after you run your code."
      ],
      "metadata": {
        "id": "mEOOH6NdV42q"
      }
    },
    {
      "cell_type": "markdown",
      "source": [
        "## Instructions"
      ],
      "metadata": {
        "id": "-AWPd5Wqft_d"
      }
    },
    {
      "cell_type": "markdown",
      "source": [
        "* Create `model_1` and `model_2`: model_1 has a Dense layer with 10 units. model_2 has three Dense layers with 10 units for each layer. The activation function for the hidden layers are `'relu'`. Use `2` nodes for the Dense output layer with `'softmax'` as the activation.\n",
        "* Compile `model_1` and `model_2` as you have done in the previous exercise: Using `'adam'` as the optimizer, `'categorical_crossentropy'` for the loss, and `metrics=['accuracy']`.\n",
        "* Fit both the models and visualize to see which one gives better results! Notice the keyword argument `verbose=False` in `model.fit()`: This prints out fewer updates, since you'll be evaluating the models graphically instead of through text."
      ],
      "metadata": {
        "id": "fNotC4abWBqN"
      }
    },
    {
      "cell_type": "markdown",
      "source": [
        "## Code"
      ],
      "metadata": {
        "id": "oKx-pAyrlVGO"
      }
    },
    {
      "cell_type": "markdown",
      "source": [
        "Load data and convert the data to NumPy array:"
      ],
      "metadata": {
        "id": "K2uQ5t2BRtpg"
      }
    },
    {
      "cell_type": "code",
      "execution_count": null,
      "metadata": {
        "id": "dlu9wWcWcy44"
      },
      "outputs": [],
      "source": [
        "import numpy as np\n",
        "import pandas as pd\n",
        "from tensorflow.keras.utils import to_categorical\n",
        "\n",
        "# Load csv file into the dataframe: df\n",
        "df = pd.read_csv(\"titanic_all_numeric.csv\")\n",
        "\n",
        "# Convert the boolean values of the 'age_was_missing' column to integer\n",
        "df.age_was_missing = df.age_was_missing.replace({True: 1, False: 0})\n",
        "\n",
        "# Create predictors NumPy array: predictors\n",
        "predictors = df.drop(['survived'], axis=1).values\n",
        "\n",
        "# Save the number of columns in predictors: n_cols\n",
        "n_cols = predictors.shape[1]\n",
        "\n",
        "# Convert the target to categorical: target\n",
        "target = to_categorical(df['survived'])\n",
        "\n",
        "# Define the input shape: input_shape\n",
        "input_shape = (n_cols,)\n"
      ]
    },
    {
      "cell_type": "markdown",
      "source": [
        "Create a neural network for a classification task"
      ],
      "metadata": {
        "id": "9jf6A0pPsATU"
      }
    },
    {
      "cell_type": "code",
      "source": [
        "from tensorflow.keras.layers import Dense\n",
        "from tensorflow.keras.models import Sequential\n",
        "\n",
        "# Define a function to create model_1:\n",
        "def get_new_model1(input_shape):\n",
        "  # Set up the model\n",
        "  ____\n",
        "\n",
        "# Define a function to create model_2:\n",
        "def get_new_model2(input_shape):\n",
        "  # Set up the model\n",
        "  ____\n"
      ],
      "metadata": {
        "id": "wkgdNpMmsKmt"
      },
      "execution_count": null,
      "outputs": []
    },
    {
      "cell_type": "markdown",
      "source": [
        "Compile and fit the model with a validation dataset:"
      ],
      "metadata": {
        "id": "u986qJ_NOK1h"
      }
    },
    {
      "cell_type": "code",
      "source": [
        "import matplotlib.pyplot as plt\n",
        "\n",
        "# Import EarlyStopping\n",
        "____\n",
        "\n",
        "# Specify the model_1\n",
        "model_1 = get_new_model1(input_shape)\n",
        "\n",
        "# Specify the model_2\n",
        "model_2 = get_new_model2(input_shape)\n",
        "\n",
        "# Compile the model_1\n",
        "____\n",
        "\n",
        "# Compile the model_2\n",
        "____\n",
        "\n",
        "# Define early_stopping_monitor with patience = 5\n",
        "early_stopping_monitor = ____\n",
        "\n",
        "# Fit model_1\n",
        "model_1_training = model_1.fit(predictors, target, epochs=20, validation_split=0.2, callbacks=[early_stopping_monitor], verbose=False)\n",
        "\n",
        "# Fit model_2\n",
        "model_2_training = model_2.fit(predictors, target, epochs=20, validation_split=0.2, callbacks=[early_stopping_monitor], verbose=False)\n",
        "\n",
        "# Create the plot\n",
        "plt.plot(model_1_training.history['val_loss'], 'r', model_2_training.history['val_loss'], 'b')\n",
        "plt.xlabel('Epochs')\n",
        "plt.ylabel('Validation score')\n",
        "plt.show()\n"
      ],
      "metadata": {
        "id": "rdrPE2NrOjS5"
      },
      "execution_count": null,
      "outputs": []
    },
    {
      "cell_type": "markdown",
      "source": [
        "The ouput should be:\n",
        "\n",
        "![download_04.png](data:image/png;base64,iVBORw0KGgoAAAANSUhEUgAAAjcAAAGwCAYAAABVdURTAAAAOXRFWHRTb2Z0d2FyZQBNYXRwbG90bGliIHZlcnNpb24zLjcuMSwgaHR0cHM6Ly9tYXRwbG90bGliLm9yZy/bCgiHAAAACXBIWXMAAA9hAAAPYQGoP6dpAABPIUlEQVR4nO3dd3gU1f7H8feGNFpCaCkQkCYgTURK8CIqKCAq7SryQwEVFAQviqgXG3D1ioq9XFAUuNiQIqAgIB2pSlNAQHpNKEISCBBCMr8/zk2DJGTDbmZ383k9zzw7uzs7+Q6bZT85c+Ych2VZFiIiIiI+ws/uAkRERERcSeFGREREfIrCjYiIiPgUhRsRERHxKQo3IiIi4lMUbkRERMSnKNyIiIiIT/G3u4DClpaWxpEjRyhdujQOh8PuckRERCQfLMvi9OnTREVF4eeXd9tMkQs3R44cITo62u4yREREpAAOHjxI5cqV89ymyIWb0qVLA+YfJyQkxOZqREREJD8SExOJjo7O+B7PS5ELN+mnokJCQhRuREREvEx+upSoQ7GIiIj4FIUbERER8SkKNyIiIuJTFG5ERETEpyjciIiIiE9RuBERERGfonAjIiIiPkXhRkRERHyKwo2IiIj4FIUbERER8SkKNyIiIuJTFG5ERETEpyjcuNKxY/D773ZXISIiUqQp3LjKd99BZCQ89pjdlYiIiBRpCjeuEhMDlgVr1sD+/XZXIyIiUmQp3LhKZCS0bm3Wp061txYREZEiTOHGle67z9xOmWJvHSIiIkWYwo0rde0Kfn7w66+wd6/d1YiIiBRJCjeuFB4Ot9xi1nVqSkRExBYKN67Wvbu5/fZbe+sQEREpohRuXK1LFyhWDDZsgF277K5GRESkyFG4cbUKFeC228y6Tk2JiIgUOoUbd9BVUyIiIrZRuHGHLl3A3x82bYI//7S7GhERkSJF4cYdypWDtm3NulpvRERECpXCjbvo1JSIiIgtbA03Y8aMoWHDhoSEhBASEkJMTAxz587NdfuJEyficDiyLcHBwYVYsRM6d4aAANi8GbZts7saERGRIsPWcFO5cmVef/111q9fz7p167jtttvo1KkTW7duzfU1ISEhxMbGZiz7PXWSyrAwuOMOs67WGxERkUJja7i5++67ufPOO6lVqxbXXnst//73vylVqhRr1qzJ9TUOh4OIiIiMJTw8vBArdpJOTYmIiBQ6j+lzk5qayuTJk0lKSiImJibX7c6cOUPVqlWJjo6+YisPQHJyMomJidmWQnPPPRAYCH/8AVeoU0RERFzD9nCzefNmSpUqRVBQEP3792fGjBlcd911OW5bu3Ztxo8fz6xZs/jyyy9JS0ujZcuWHDp0KNf9jxo1itDQ0IwlOjraXYdyuTJloF07s67WGxERkULhsCzLsrOACxcucODAARISEpg2bRqfffYZy5YtyzXgZJWSkkLdunXp0aMHr7zySo7bJCcnk5ycnHE/MTGR6OhoEhISCAkJcdlx5Oqrr+CBB6B2bdOx2OFw/88UERHxMYmJiYSGhubr+9v2cHOptm3bUqNGDT755JN8bX/vvffi7+/PN998k6/tnfnHcYnERKhYEZKT4bffoGFD9/9MERERH+PM97ftp6UulZaWlq2lJS+pqals3ryZyMhIN1d1FUJCoEMHs65TUyIiIm5na7gZNmwYy5cvZ9++fWzevJlhw4axdOlSevbsCUCvXr0YNmxYxvb/+te/+Omnn9izZw8bNmzggQceYP/+/fTt29euQ8ifrFdNeVZDmYiIiM/xt/OHHzt2jF69ehEbG0toaCgNGzZk/vz53H777QAcOHAAP7/M/HXq1Cn69etHXFwcYWFhNGnShFWrVuWrf46t7r4bgoNh504z31TjxnZXJCIi4rM8rs+NuxV6n5t0f/87TJ8O//wnjBpVeD9XRETEB3h1nxufpVNTIiIihULhprB07AglSsCePbBhg93ViIiI+CyFm8JSsiTcdZdZ//Zbe2sRERHxYQo3hUmnpkRERNxO4aYwdehgWnD274dff7W7GhEREZ+kcFOYSpQwl4WDBvQTERFxE4Wbwta9u7mdMgXS0uytRURExAcp3BS29u2hVCk4eBDWrrW7GhEREZ+jcFPYgoOhUyezrlNTIiIiLqdwY4f0q6amTtWpKRERERdTuLFDu3ZmtvDDh2HVKrurERER8SkKN3YICoLOnc26Tk2JiIi4lMKNXdJPTU2bBqmp9tYiIiLiQxRu7HL77VCmDMTGwsqVdlcjIiLiMxRu7BIYCF26mHXNNSUiIuIyCjd20qkpERERl1O4sVObNhAWBseOwfLldlcjIiLiExRu7BQQAF27mnWdmhIREXEJhRu7pZ+amj4dLl60txYREREfoHBjt9tug3Ll4MQJWLrU7mpERES8nsKN3fz9oVs3s64B/URERK6awo0nyHpqKiXF3lpERES8nMKNJ2jdGipUgJMnYfFiu6sRERHxago3nsDfH/7+d7OuU1MiIiJXReHGU6SfmpoxAy5csLcWERERL6Zw4ylatYLwcDh1ChYutLsaERERr6Vw4ymKFdOpKRERERdQuPEk3bub25kzITnZ1lJERES8lcKNJ7npJoiMhIQEWLDA7mpERES8ksKNJ/Hzg3vvNeuaa0pERKRAFG48TfpVU7Nmwfnz9tYiIiLihRRuPE1MDFSuDKdPw/z5dlcjIiLidRRuPE3WU1O6akpERMRpCjeeKP3U1Pffw7lz9tYiIiLiZRRuPFHz5lClCpw5A3Pn2l2NiIiIV1G48UQOR2brjU5NiYiIOEXhxlOlh5sffoCzZ+2tRURExIso3HiqG2+Ea64xwWbOHLurERER8RoKN55Kp6ZEREQKROHGk6XPNTVnjulcLCIiIlekcOPJGjeGGjXM5eA6NSUiIpIvCjeeLOupKc01JSIiki+2hpsxY8bQsGFDQkJCCAkJISYmhrlXGNdl6tSp1KlTh+DgYBo0aMCPP/5YSNXaJD3c/PijmZJBRERE8mRruKlcuTKvv/4669evZ926ddx222106tSJrVu35rj9qlWr6NGjB4888ggbN26kc+fOdO7cmS1bthRy5YWoUSO49lpITjaXhYuIiEieHJZlWXYXkVXZsmUZPXo0jzzyyGXPde/enaSkJGbPnp3xWIsWLbj++usZO3ZsvvafmJhIaGgoCQkJhISEuKxut3rpJXj1VejUCWbOtLsaERGRQufM97fH9LlJTU1l8uTJJCUlERMTk+M2q1evpm3bttkea9euHatXr851v8nJySQmJmZbvE76qam5cyEhwd5aREREPJzt4Wbz5s2UKlWKoKAg+vfvz4wZM7juuuty3DYuLo7w8PBsj4WHhxMXF5fr/keNGkVoaGjGEh0d7dL6C0X9+lCnDly4ALNm2V2NiIiIR7M93NSuXZtNmzaxdu1aBgwYQO/evfnjjz9ctv9hw4aRkJCQsRw8eNBl+y40Dgfcf79Z//xze2sRERHxcLaHm8DAQGrWrEmTJk0YNWoUjRo14v33389x24iICI4ePZrtsaNHjxIREZHr/oOCgjKuxkpfvFLfvuDvD8uXw/r1dlcjIiLisWwPN5dKS0sjOTk5x+diYmJYtGhRtscWLFiQax8dn1KpUuaIxe++a28tIiIiHszWcDNs2DCWL1/Ovn372Lx5M8OGDWPp0qX07NkTgF69ejFs2LCM7QcPHsy8efN4++232b59OyNGjGDdunUMGjTIrkMoXE89ZW6//RYOH7a3FhEREQ9la7g5duwYvXr1onbt2rRp04Zff/2V+fPnc/vttwNw4MABYmNjM7Zv2bIlX3/9NZ9++imNGjVi2rRpzJw5k/r169t1CIWrSRNo1QouXoSPP7a7GhEREY/kcePcuJtXjnOT1YwZ0LUrlC0LBw9CiRJ2VyQiIuJ2XjnOjeTTPfdA9epw8iRMmmR3NSIiIh5H4cbbFCsG//iHWX/vPUhLs7UcERERT6Nw440efhhCQmDHDpg3z+5qREREPIrCjTcqXRr69TPr77xjby0iIiIeRuHGWz3xBPj5waJF8PvvdlcjIiLiMRRuvFXVqtCtm1l/7z1bSxEREfEkCjfeLH1Qv6++gkumpRARESmqFG68WUwMNG9uZgsfM8buakRERDyCwo23S2+9+c9/4Px5e2sRERHxAAo33q5bN6hSBY4fh6+/trsaERER2ynceDt/f3PlFJjZwovWbBoiIiKXUbjxBX37QsmSsGULLFxodzUiIiK2UrjxBWXKmFGLwbTeiIiIFGEKN75i8GBwOGDuXNi2ze5qREREbKNw4ytq1DAzhgO8/769tYiIiNhI4caXDBlibidNgr/+srcWERERmyjc+JJWreCGG+DcOfjkE7urERERsYXCjS9xODIH9fvoIzNysYiISBGjcONr7rsPIiMhNha+/dbuakRERAqdwo2vCQyEQYPMugb1ExGRIkjhxhc99hgULw4bN8Ly5XZXIyIiUqgUbnxRuXLQq5dZ16B+IiJSxCjc+KonnzS3338Pu3bZWoqIiEhhUrjxVXXqwJ13mj43H3xgdzUiIiKFRuHGl6VfFj5+PMTH21qKiIhIYVG48WVt2kCDBpCUBOPG2V2NiIhIoVC48WUOR2bfmw8/hIsXbS1HRESkMCjc+Lr/+z+oWBEOHoTp0+2uRkRExO0UbnxdcDA8/rhZ12XhIiJSBCjcFAUDBkBQEKxdC6tX212NiIiIWyncFAUVK0LPnmZdrTciIuLjFG6KivSOxdOnw759dlYiIiLiVgo3RUWDBtC2LaSlmSunREREfJTCTVGSPqjfZ5/B6dP21iIiIuImCjdFSfv2ZlqGxEQzarGIiIgPUrgpSvz8MvvevP8+pKbaWo6IiIg7KNwUNQ8+CGXLwt69ZsZwERERH6NwU9SUKAH9+5t1XRYuIiI+SOGmKBo4EAIC4OefYd06u6sRERFxqQKFm59//pkHHniAmJgYDh8+DMAXX3zBihUrXFqcuElUFHTvbtbVeiMiIj7G6XAzffp02rVrR/Hixdm4cSPJyckAJCQk8Nprr7m8QHGT9MvCp0yB/wVUERERX+B0uHn11VcZO3Ys48aNIyAgIOPxm266iQ0bNri0OHGjG26A1q3h4kX46CO7qxEREXEZp8PNjh07uPnmmy97PDQ0lPj4eKf2NWrUKJo2bUrp0qWpWLEinTt3ZseOHXm+ZuLEiTgcjmxLcHCwUz9X/ie99eaTTyApyd5aREREXMTpcBMREcGuXbsue3zFihVUr17dqX0tW7aMgQMHsmbNGhYsWEBKSgp33HEHSVf4og0JCSE2NjZj2b9/v1M/V/7nrrugRg04dQomTbK7GhEREZfwd/YF/fr1Y/DgwYwfPx6Hw8GRI0dYvXo1Q4cO5aWXXnJqX/Pmzct2f+LEiVSsWJH169fn2DqUzuFwEBER4WzpcqlixWDwYPjHP+C99+Cxx8xAfyIiIl7M6XDzz3/+k7S0NNq0acPZs2e5+eabCQoKYujQoTzxxBNXVUxCQgIAZcuWzXO7M2fOULVqVdLS0rjhhht47bXXqFevXo7bJicnZ3R6BkhMTLyqGn3OQw/BSy/Bn3/C3LnQsaPdFYmIiFwVh2VZVn43Tk1NZeXKlTRs2JASJUqwa9cuzpw5w3XXXUepUqWuqpC0tDTuuece4uPj87ykfPXq1ezcuZOGDRuSkJDAW2+9xfLly9m6dSuVK1e+bPsRI0YwcuTIyx5PSEggJCTkqmr2Gc88A2+9BbfdBosW2V2NiIjIZRITEwkNDc3X97dT4QYgODiYbdu2Ua1atasq8lIDBgxg7ty5rFixIseQkpuUlBTq1q1Ljx49eOWVVy57PqeWm+joaIWbrA4cgOrVzVxT69ebK6lEREQ8iDPhxukOFvXr12fPnj0FLi4ngwYNYvbs2SxZssSpYAMQEBBA48aNc+zkDBAUFERISEi2RS5RpQrcf79ZHzIEnMu7IiIiHqVA49wMHTqU2bNnExsbS2JiYrbFGZZlMWjQIGbMmMHixYsL1BqUmprK5s2biYyMdPq1ksW//w3Fi8OyZTB1qt3ViIiIFJjTp6X8slxN43A4MtYty8LhcJCamprvfT3++ON8/fXXzJo1i9q1a2c8HhoaSvHixQHo1asXlSpVYtSoUQD861//okWLFtSsWZP4+HhGjx7NzJkzWb9+Pdddd90Vf6YzzVpFzsiRMGIEREfD9u1mkk0REREP4Mz3t9NXSy1ZsqTAhV1qzJgxANxyyy3ZHp8wYQJ9+vQB4MCBA9kC1alTp+jXrx9xcXGEhYXRpEkTVq1ala9gI1fw7LMwYQLs3w9vvGHCjoiIiJdxuuXG26nl5gqmTYN774XgYNi2Da65xu6KRERE3NtyAxAfH8/nn3/Otm3bAKhXrx4PP/wwoaGhBdmdeJJu3eDWW2HJEhg61IQdERERL+J0h+J169ZRo0YN3n33XU6ePMnJkyd55513qFGjhibO9AUOB7z/vhmpePp0WLzY7opERESc4vRpqVatWlGzZk3GjRuHv79p+Ll48SJ9+/Zlz549LF++3C2FuopOS+XTE0+Y2cLr14eNG8G/QI18IiIiLuHWQfyKFy/Oxo0bqVOnTrbH//jjD2688UbOnj3rfMWFSOEmn06ehGuvhb/+gg8/hEGD7K5IRESKMLcO4hcSEsKBAwcue/zgwYOULl3a2d2JpypbFl591ay/9BKcOGFvPSIiIvnkdLjp3r07jzzyCN9++y0HDx7k4MGDTJ48mb59+9KjRw931Ch26dcPGjWC+HgTcERERLyA0x0p3nrrLRwOB7169eLixYuAmQJhwIABvP766y4vUGxUrBh88AG0bg2ffAKPPQbXX293VSIiInkq8Dg3Z8+eZffu3QDUqFGDEl4ymq363BTA/ffDt99Cq1ZmeoYsI1OLiIgUBrf2uUlISODkyZOUKFGCBg0a0KBBA0qUKMHJkyednltKvMTo0WbeqZ9/NiFHRETEgzkdbu6//34mT5582eNTpkzh/vSZpcW3REfDsGFm/ZlnICnJ3npERETy4HS4Wbt2Lbfeeutlj99yyy2sXbvWJUWJBxo61EzFcOgQqG+ViIh4MKfDTXJyckZH4qxSUlI4d+6cS4oSD1S8OLz9tlkfPRr27rW3HhERkVw4HW6aNWvGp59+etnjY8eOpUmTJi4pSjxUly7Qpg0kJ8PTT9tdjYiISI6cvhT81VdfpW3btvz222+0adMGgEWLFvHrr7/y008/ubxA8SDp8041agQzZsDChdC2rd1ViYiIZON0y81NN93E6tWriY6OZsqUKfzwww/UrFmT33//nVatWrmjRvEk9erBwIFmffBgSEmxtx4REZFLFHicG2+lcW5c4NQpqFXLzDv1/vvwj3/YXZGIiPg4t45zs2HDBjZv3pxxf9asWXTu3Jnnn3+eCxcuOF+teJ+wMHjtNbP+8stw/Li99YiIiGThdLh57LHH+PPPPwHYs2cP3bt3p0SJEkydOpVnn33W5QWKh3rkEWjcGBIS4MUX7a5GREQkg9Ph5s8//+T6/80vNHXqVFq3bs3XX3/NxIkTmT59uqvrE0+VPu8UwLhxsGGDvfWIiIj8j9PhxrIs0tLSAFi4cCF33nknANHR0Zw4ccK11Yln+9vfoEcPsCzT76Zodd8SEREP5XS4ufHGG3n11Vf54osvWLZsGR07dgRg7969hIeHu7xA8XBvvgklSsDKlfDNN3ZXIyIi4ny4ee+999iwYQODBg3ihRdeoGbNmgBMmzaNli1burxA8XCVK8MLL5j1Z5+FM2fsrUdERIo8l10Kfv78eYoVK0ZAQIArduc2uhTcDc6fN+Pf7NkDzz8P//633RWJiIiPceul4LkJDg72+GAjbhIcDO+8Y9bfegt277a3HhERKdJcFm6kiLvnHrj9drhwQfNOiYiIrRRuxDXS553y94dZs0DzjImIiE0UbsR16taFQYPMuuadEhERmyjciGsNHw4VKsD27fDRR3ZXIyIiRZDTV0ulpqYyceJEFi1axLFjxzIG9Eu3ePFilxboarpaqhB89hn06wchIbBzJ1SsaHdFIiLi5Zz5/vZ3dueDBw9m4sSJdOzYkfr16+NwOApcqPiohx6CsWNh/Xpzafhnn9ldkYiIFCFOt9yUL1+eSZMmZUy74G3UclNIVq2Cm24yHY1/+QVuvNHuikRExIu5dZybwMDAjFGJRXLVsiU88IDmnRIRkULndLh5+umnef/993HRwMbiy954A0qWhNWr4auv7K5GRESKCKdPS3Xp0oUlS5ZQtmxZ6tWrd9moxN99951LC3Q1nZYqZK+/DsOGQWQk7NgBpUvbXZGIiHght3YoLlOmDF26dClwcVLEPPWU6VC8eze89hqMGmV3RSIi4uNcNnGmt1DLjQ1++MFMzxAQAMuXQ4sWdlckIiJeplAmzjx+/DgrVqxgxYoVHD9+vKC7kaLgrrvg3nvNiMV//zscO2Z3RSIi4sOcDjdJSUk8/PDDREZGcvPNN3PzzTcTFRXFI488wtmzZ91Ro3g7hwM+/xzq1IHDh6F7d7h40e6qRETERzkdboYMGcKyZcv44YcfiI+PJz4+nlmzZrFs2TKe1mzQkpvSpeG776BUKVi61AzuJyIi4gYFGsRv2rRp3HLLLdkeX7JkCffdd5/Hn6JSnxubTZ0K991n1qdNg27d7K1HRES8glv73Jw9e5bw8PDLHq9YsaJOS8mV3XsvDB1q1vv0gW3bbC1HRER8j9PhJiYmhuHDh3P+/PmMx86dO8fIkSOJiYlxaXHio0aNgltugTNnoGtXOH3a7opERMSHOB1u3n//fVauXEnlypVp06YNbdq0ITo6mlWrVvH+++87ta9Ro0bRtGlTSpcuTcWKFencuTM7duy44uumTp1KnTp1CA4OpkGDBvz444/OHobYyd8fJk+GSpVg+3Yz0WbRGpFARETcyOlwU79+fXbu3MmoUaO4/vrruf7663n99dfZuXMn9erVc2pfy5YtY+DAgaxZs4YFCxaQkpLCHXfcQVJSUq6vWbVqFT169OCRRx5h48aNdO7cmc6dO7NlyxZnD0XsFB5u+twEBMD06fD223ZXJCIiPsKjBvE7fvw4FStWZNmyZdx88805btO9e3eSkpKYPXt2xmMtWrTg+uuvZ+zYsVf8GepQ7GHGjIHHHwc/P1i4EG691e6KRETEA7l8+oXvv/+eDh06EBAQwPfff5/ntvfcc0/+K71EQkICAGXLls11m9WrVzNkyJBsj7Vr146ZM2fmuH1ycjLJyckZ9xMTEwtcn7hB//6wZg1MmmTGv9mwASpXtrsqERHxYvkKN507dyYuLi6jX0xuHA4HqampBSokLS2NJ598kptuuon69evnul1cXNxlV2uFh4cTFxeX4/ajRo1i5MiRBapJCoHDYVpvfvvNLH//OyxbBkFBdlcmIiJeKl99btLS0qhYsWLGem5LQYMNwMCBA9myZQuTJ08u8D5yMmzYMBISEjKWgwcPunT/4gIlSpgB/sqUgbVrzWSbIiIiBeR0h+JJkyZlO82T7sKFC0yaNKlARQwaNIjZs2ezZMkSKl/hlERERARHjx7N9tjRo0eJiIjIcfugoCBCQkKyLeKBqleHr77KbMn573/trkhERLyU0+HmoYceyugbk9Xp06d56KGHnNqXZVkMGjSIGTNmsHjxYqpVq3bF18TExLBo0aJsjy1YsEBj7PiCO++E4cPNev/+sHGjvfWIiIhXcjrcWJaFw+G47PFDhw4RGhrq1L4GDhzIl19+yddff03p0qWJi4sjLi6Oc+fOZWzTq1cvhg0blnF/8ODBzJs3j7fffpvt27czYsQI1q1bx6BBg5w9FPFEL71kQs7582ZqhpMn7a5IRES8TL46FAM0btwYh8OBw+GgTZs2+PtnvjQ1NZW9e/fSvn17p374mDFjAC6bp2rChAn06dMHgAMHDuDnl5nBWrZsyddff82LL77I888/T61atZg5c2aenZDFi/j5wZdfwo03wp498MADMHu2eVxERCQf8j3OTfoVRyNHjuTpp5+mVKlSGc8FBgZyzTXX0K1bNwIDA91TqYtonBsvsWkTxMSYFpzhw2HECLsrEhERGznz/e30IH7//e9/6d69O8HBwVdVpF0UbrzIpEnQu7dZnz0bOna0tx4REbGNW2cF7927t9cGG/EyvXqZ0YvBnJ7avdveekRExCs4HW5SU1N56623aNasGREREZQtWzbbIuJS774LLVpAfLzpYHz2rN0ViYiIh3M63IwcOZJ33nmH7t27k5CQwJAhQ+jatSt+fn6MUL8IcbXAQJg6FSpWNCMY9++vGcRFRCRPToebr776inHjxvH000/j7+9Pjx49+Oyzz3j55ZdZs2aNO2qUoq5yZfj2WyhWDL74wgzyJyIikgunw01cXBwNGjQAoFSpUhkD+t11113MmTPHtdWJpLvlFnjjDbP+5JOwerWd1YiIiAdzOtxUrlyZ2NhYAGrUqMFPP/0EwK+//kqQJjsUdxoyxEysmZJibi+ZhkNERAQKEG66dOmSMf3BE088wUsvvUStWrXo1asXDz/8sMsLFMngcMD48VC3Lhw5At27w8WLdlclIiIexulxbi61evVqVq9eTa1atbj77rtdVZfbaJwbH7B9OzRtCmfOwNNPw1tv2V2RiIi4mVsH8fN2Cjc+Yvp0c2oKYMoUuPdee+sRERG3cub7O19zS33//ff5/uH33HNPvrcVKbBu3eDZZ+HNN+Ghh6BePbjuOrurEhERD5Cvlhu/SyYtdDgcXPqy9JnCU1NTXVie66nlxodcvAh33AFLlkDt2vDLL6D3VETEJ7l8+oW0tLSM5aeffuL6669n7ty5xMfHEx8fz9y5c7nhhhuYN2+eSw5AJF/8/WHyZDMOzo4dZooGdTAWESnynO5zU79+fcaOHcvf/va3bI///PPPPProo2zbts2lBbqaWm580Nq10Lo1JCfDY4+ZQf7+15IoIiK+wa0TZ+7evZsyZcpc9nhoaCj79u1zdnciV695c/j6axNoPvkEXn3V7opERMRGToebpk2bMmTIEI5mGUDt6NGjPPPMMzRr1sylxYnkW9eu8NFHZv3ll+Gzz+ytR0REbON0uBk/fjyxsbFUqVKFmjVrUrNmTapUqcLhw4f5/PPP3VGjSP48/jg8/7xZ798fZs+2tx4REbFFgca5sSyLBQsWsH37dgDq1q1L27ZtM66Y8mTqc+PjLAsefhgmToTixWHxYmjRwu6qRETkKmkQvzwo3BQBKSnQqRPMnQvlysHKleZScRER8VouH8Tvgw8+4NFHHyU4OJgPPvggz23/8Y9/5L9SEXcICICpU+HWW+HXX6FdOzOLeGSk3ZWJiEghyFfLTbVq1Vi3bh3lypWjWrVque/M4WDPnj0uLdDV1HJThBw/Di1bwq5d0KgRLFsGoaF2VyUiIgWg01J5ULgpYvbsgZgYOHYMbrsNfvwRgoLsrkpERJzk1nFuRLxK9eqm702pUqZzcZ8+kJZmd1UiIuJG+epzM2TIkHzv8J133ilwMSJuccMN8N13cOedZrqGqCh4+227qxIRETfJV7jZuHFjvnbmDZeCSxF1++0wYQI8+CC8844JOE8/bXdVIiLiBvkKN0uWLHF3HSLu98ADEBsLzz4LQ4eaq6f+7//srkpERFxMfW6kaBk6FAYPNut9+sDChbaWIyIirpevlptLrVu3jilTpnDgwAEuXLiQ7bnvvvvOJYWJuIXDYU5LxcbClCnQpQssXw6NG9tdmYiIuIjTLTeTJ0+mZcuWbNu2jRkzZpCSksLWrVtZvHgxoRpDRLyBnx9MmmQG+TtzBjp0gL177a5KRERcxOlw89prr/Huu+/yww8/EBgYyPvvv8/27du57777qFKlijtqFHG9oCCYMQMaNoSjR80oxseP212ViIi4gNPhZvfu3XTs2BGAwMBAkpKScDgcPPXUU3z66acuL1DEbUJDzRg4VarAzp1w112QlGR3VSIicpWcDjdhYWGcPn0agEqVKrFlyxYA4uPjOXv2rGurE3G3qCiYPx/KloVffoHu3eHiRburEhGRq+B0uLn55ptZsGABAPfeey+DBw+mX79+9OjRgzZt2ri8QBG3q1MHfvgBgoNhzhx47DEoWrOSiIj4lHzPLbVlyxbq16/PyZMnOX/+PFFRUaSlpfHmm2+yatUqatWqxYsvvkhYWJi7a74qmltKcvX99+bqqbQ0ePFFeOUVuysSEZH/ccvEmX5+fjRt2pS+ffty//33U7p0aZcUW9gUbiRP48bBo4+a9TFjoH9/e+sRERHATRNnLlu2jHr16vH0008TGRlJ7969+fnnn6+6WBGP0q8fDB9u1gcONFdUiYiIV8l3uGnVqhXjx48nNjaWDz/8kH379tG6dWuuvfZa3njjDeLi4txZp0jhGT7chJy0NOjRA1assLsiERFxQr5PS+Vk165dTJgwgS+++IK4uDjat2/P999/78r6XE6npSRfLl6Ebt1MP5wyZWDlSrjuOrurEhEpstzS5yY3SUlJfPXVVwwbNoz4+HhSU1OvZndup3Aj+Xb2LLRtC6tXQ3S0acHRQJUiIrZwS5+bSy1fvpw+ffoQERHBM888Q9euXVm5cmVBdyfieUqUMJeI164NBw9Cixawfr3dVYmIyBU4FW6OHDnCa6+9xrXXXsstt9zCrl27+OCDDzhy5Ajjxo2jRYsW7qpTxB7lysGCBVC/vpls8+abYeZMu6sSEZE85DvcdOjQgapVq/Lhhx/SpUsXtm3bxooVK3jooYcoWbKkO2sUsVf6Kal27cypqq5d4e23NdCfiIiHyne4CQgIYNq0aRw6dIg33niD2rVrX/UPX758OXfffTdRUVE4HA5mXuEv4qVLl+JwOC5bdKWWuF1oKMyeDQMGmFAzdKgZAyclxe7KRETkEv753dAdV0ElJSXRqFEjHn74Ybp27Zrv1+3YsSNbZ6KKFSu6vDaRy/j7w8cfw7XXwpAh8OmnsGcPTJ1qrqgSERGPkO9w4w4dOnSgQ4cOTr+uYsWKlNGXidjB4YAnn4QaNcwYOAsXQsuWZk6qatXsrk5ERLiKq6XsdP311xMZGcntt99+xSu0kpOTSUxMzLaIXLW774affzazim/bBs2bm0vGRUTEdl4VbiIjIxk7dizTp09n+vTpREdHc8stt7Bhw4ZcXzNq1ChCQ0Mzlujo6EKsWHxa48bwyy/m9vhxuPVW+PZbu6sSESnyrnoQP1dxOBzMmDGDzp07O/W61q1bU6VKFb744oscn09OTiY5OTnjfmJiItHR0RrET1znzBno2dOMZgxmNvEXXjCnsERExCUKZRA/T9GsWTN27dqV6/NBQUGEhIRkW0RcqlQp+O4708kY4KWXoHdvyBKqRUSk8Hh9uNm0aRORkZF2lyFFXbFiZuybMWPM+hdfwB13wF9/2V2ZiEiRY+vVUmfOnMnW6rJ37142bdpE2bJlqVKlCsOGDePw4cNMmjQJgPfee49q1apRr149zp8/z2effcbixYv56aef7DoEkez694fq1eHee2H5cjNlw5w55vJxEREpFLaGm3Xr1nHrrbdm3B/yv2b93r17M3HiRGJjYzlw4EDG8xcuXODpp5/m8OHDlChRgoYNG7Jw4cJs+xCx3R13mFnE77oLdu0yAWfGDGjd2u7KRESKBI/pUFxYNCu4FJqjR6FTJ1i7FgICYNw40xdHREScVqQ6FIt4rPBwWLLEnKJKSYE+feDFFyEtze7KRER8msKNiDsVLw6TJ8Pzz5v7//63Gdn43Dl76xIR8WEKNyLu5udnQs2ECeb01JQpZsC/o0ftrkxExCcp3IgUlj594KefICzM9MNp0QK2brW7KhERn6NwI1KYbrkF1qyBmjVh3z4z6aaGMhARcSmFG5HCdu21ZpLNVq0gMRHuvBPGjoWideGiiIjbKNyI2KF8eViwAB54AFJTYcAAaNcOtm+3uzIREa+ncCNil6AgmDQJRo2CwEATdho0gGefhdOn7a5ORMRrKdyI2MnhgH/+03Qs7tgRLl6E0aOhdm346iudqhIRKQCFGxFPULMmzJ4NP/wANWpAbKw5ZdW6Nfz2m93ViYh4FYUbEU9y112wZQu8+qoZAPDnn+GGG+CJJ+DUKburExHxCgo3Ip4mOBheeMF0Lr73XjNdw0cfmausPvtM0zeIiFyBwo2Ip6pSxYxmvHAh1K0LJ05Av35m8L9ffrG7OhERj6VwI+Lp2rQx/W7eeQdKl4Zff4XmzaFvXzh2zO7qREQ8jsKNiDcICICnnoI//4Revcxjn39uTlV9+KG5ykpERACFGxHvEhEB//0vrFwJjRtDQgL84x+m0/Hy5XZXJyLiERRuRLxRy5bm9NSYMVC2LGzebC4b79kTDh+2uzoREVsp3Ih4q2LFoH9/c6qqf38zIODXX5sBAN98Ey5csLtCERFbKNyIeLty5UwLzrp1EBMDSUnw3HNmKgfNOC4iRZDCjYivuOEGWLHC9MkJDzctOu3aQZcusGeP3dWJiBQahRsRX+LnZ66m2rHDXF1VrBjMnGmuqvq//4P16+2uUETE7RRuRHxRaKgZF+e33+COOyA1Fb75Bm68EW65xcxhpZGORcRHKdyI+LJ69WD+fNiwwUzE6e8Py5bBPffAddfBJ5/AuXN2Vyki4lIKNyJFQePG8MUXsHcvPPOMadnZscNcZVWlCowYodGORcRnKNyIFCWVK5vLxA8ehHffhapVzZxVI0eakPPoo2bCThERL6Zw40KWBYmJdlchkg+lS8OTT8KuXfDtt9CsGSQnw7hxZpLOu+6CpUvNL7WIiJdRuHGRZctM94Y+feyuRMQJ/v5w332wZg38/DN07mwGA5wzB2691XRA/vprSEmxu1IRkXxTuHGR8uVh2zb4/nuNfi9eyOGAv/0NZswwfXEGDIDixU1H5J49oUYNeOstM5eViIiHU7hxkXr1zHdDaqqZrFnEa9WqBf/5Dxw4AK+8YgYEPHjQdESOjoannzbPiYh4KIUbF+rf39yOGwcXL9pbi8hVK18eXnwR9u0zif266+D0aTN+TvXqGhRQRDyWwo0Ldetmpvk5dAh+/NHuakRcJDgYHn4Ytmwxv9ht2lw+KOCcOep8LCIeQ+HGhYKD4aGHzPonn9hbi4jLORzQoQMsXAgbN8KDD2YOCnjXXdCokel8rGZLEbGZwo2LPfqouZ0717Tmi/ik66+HSZPML/kzz0CpUrB5s+l8fO21ZpZyjXwsIjZRuHGxWrWgbVvTQj9unN3ViLhZpUpmUMADB+DVV6FCBTMK8uOPQ7Vq8PrrusJKRAqdwo0bpHcs/vxzuHDB3lpECkVYGLzwgmnJ+fBDM/Lx0aMwbJgZ+XjYMIiLs7tKESkiFG7c4J57ICLC/N8+a5bd1YgUohIlYNAg2LnTzGVVr54Ztvv11+Gaa0yLzp49dlcpIj5O4cYNAgKgb1+zPnasvbWI2CIgwMxC/vvvJuG3aGGmdxgzxpy77dnTPCci4gYKN27Srx/4+cHixWbAV5Eiyc/PNGWuWmXmqmrfHtLSzFVVjRqZq6xWrLC7ShHxMQo3blKlCtx5p1n/9FN7axGxncMBrVubywg3bIDu3U3wmTMHWrUyw3trrBwRcRGFGzdK71g8caKuihXJ0LgxTJ5smjQffRQCA2HlSo2VIyIuo3DjRu3bmxackydh2jS7qxHxMDVrmtEu9+7VWDki4lIKN25UrFjmoH7qWCySi6io7GPllC+ffaycUaPg+HG7qxQRL2JruFm+fDl33303UVFROBwOZs6cecXXLF26lBtuuIGgoCBq1qzJxIkT3V7n1Xj4YTNC/apVujhEJE/pY+Xs32/GyqlSxYyn8PzzJgB17Qo//KBTViJyRbaGm6SkJBo1asTHH3+cr+337t1Lx44dufXWW9m0aRNPPvkkffv2Zf78+W6utOAiI6FTJ7Ou+aZE8iF9rJxdu8wUDzfeaALNjBnmyqvoaHj2Wdi2ze5KRcRDOSzLMy5PcDgczJgxg86dO+e6zXPPPcecOXPYsmVLxmP3338/8fHxzJs3L18/JzExkdDQUBISEggJCbnasvNl4UK4/XYoXRqOHDFdC0TECVu2wIQJZmDArKeoWrQws9V27w6hofbVJyJu58z3t1f1uVm9ejVt27bN9li7du1YvXp1rq9JTk4mMTEx21LYbrvN9J08fdpcJCIiTqpfH95+Gw4dymzBKVYM1qyBxx4zTaQPPghLlphxdESkSPOqcBMXF0d4eHi2x8LDw0lMTORcLldVjBo1itDQ0IwlOjq6MErNxs/P/P8L6lgsclUCA6FzZzPq8aFDMHo01K1rrqr68svMvyT+9S/Td0dEiiSvCjcFMWzYMBISEjKWgwcP2lJHnz7m/+X162HdOltKEPEtEREwdChs3WpacB59FEJCzJVWw4ebK63atjXj5uiScpEixavCTUREBEePHs322NGjRwkJCaF48eI5viYoKIiQkJBsix3Kl4d77zXrar0RcSGHA5o3Nz32Y2MzW3AsCxYtMuPmREbCgAHwyy8aBVmkCPCqcBMTE8OiRYuyPbZgwQJiYmJsqsg56SMWf/MNxMfbWoqIbypRwoSZRYvM7OPDh0PVqpCQYP6qaN48s//OJX8oiYjvsDXcnDlzhk2bNrFp0ybAXOq9adMmDhw4AJhTSr169crYvn///uzZs4dnn32W7du385///IcpU6bw1FNP2VG+0266CerVg7NnzR+XIuJG1arBiBEm5CxcaEJPcDD88Yc5nVW5shmnYfp009tfRHyGrZeCL126lFtvvfWyx3v37s3EiRPp06cP+/btY+nSpdle89RTT/HHH39QuXJlXnrpJfr06ZPvn2nHpeBZffQRPPGECTmbN5sWdREpJPHx8O23MH68OUWVzt/fTN7Zvr1ZGjbUh1PEwzjz/e0x49wUFrvDTUKCGWz17Fn4+Wfz/6mI2GDrVjOr7cyZZsDArCIiMoPO7bdD2bJ2VCgiWSjc5MHucAPQty98/rlpJdfpKREPsGsXzJ8P8+bB4sXmr490fn7QrFlm2LnxRjPGjogUKoWbPHhCuFm3Dpo2NZeGHz5srqQSEQ+RnAwrVpigM2+eGR05q7Jl4Y47TNBp18608oiI2ync5METwg2YP/7WrzdjkA0dalsZInIlhw5ltuosWGDOLWfVuHFmq05MDAQE2FOniI9TuMmDp4Sbzz6Dfv3MYKo7dpiWbxHxcBcvmgED01t11q/P/nzp0mbgwPRWnapV7alTxAcp3OTBU8LNmTNQqRIkJpo/Bi+ZMktEvMGxY/DTTybozJ8PJ05kf75uXejYEbp1M/129FeMSIEp3OTBU8INwMCB8J//mP/3pk2ztRQRuVppabBhQ2arzurV2SfxrFQJunY1H/i//U2dkkWcpHCTB08KN7//Do0amSE2DhwwI8SLiI84dco0y86YAbNnm+badBUqmAlAu3WDW281VxeISJ6c+f5WG6mNGjaEli3Nafzx4+2uRkRcKiwM7rvPzLdy/Dj88IOZQTcszNwfN870zQkPh969zUznmuBTxCXUcmOzL76AXr2gShUzSrxaqkV8XEoKLF1qpn2YMcP020lXsmRmH50774RSpWwrU8TT6LRUHjwt3Jw7Z6a4OXnStFx37Gh3RSJSaFJTYdUqE3S++w4OHsx8LjjYXHHVrRvcdZdp8REpwnRayosUL25aqsFMWiwiRUixYtCqFbz3HuzfD2vXwrPPQo0acP68OVXVqxdUrGhOYY0bZ05piUie1HLjAXbsgDp1zDx9e/dqaAyRIs+yzMy606ebZevWzOf8/ODmm02LTpcu5ioskSJAp6Xy4InhBqBNGzOlzYsvwiuv2F2NiHiUHTvMaavp0y8fOPCaa6B+/exL7drmtJaID1G4yYOnhpupU82FFRER5rJwjeAuIjnaty8z6KxalfM2xYpBrVpQr1720FOzphl7QsQLKdzkwVPDzYUL5oqpo0fNgH7dutldkYh4vJMnzcSely6nTuW8fWCgGTX50paeKlU0erJ4PIWbPHhquAF44QV47TUzFcOCBXZXIyJeybIgNvbywLN1K5w9m/NrSpW6vJWnfn0zBo/DUbj1i+RC4SYPnhxu9u2D6tXN/01//mlalUVEXCItzfwnkx500kPPtm1m7J2chIVBtWrmKodrrsl+W7UqlCmj8COFRuEmD54cbsCMc/PjjzB0KIwebXc1IuLzUlJg167LW3p27co+N1ZOQkIuDzxZQ1D58go/4jIKN3nw9HDzww9wzz1QrhwcOqQLHkTEJufOwc6dZvyd/ftNq0/W9fyMt1OiRGboyan1JyJCfX0k3xRu8uDp4SY11bQCHzwIX34JPXvaXZGISA6SksylnbmFn9hYc449L0FB5lx8jRrmSq6st9dco8tGJRuFmzx4ergB+Ne/YPhwM3Dp8uV2VyMiUgDJyeavtNzCz6FD5q+53BQrZq7iyin4VK9u5uGSIkXhJg/eEG4OHzYttqmp5tR3vXp2VyQi4mIXL5rws3u36d+T9Xb37tyv7EoXGZlz8KlRA8qWLZxjkEKlcJMHbwg3AF27mgmDn3gCPvjA7mpERAqRZUFcXM7BZ9eu3MfxSRcWZkJOlSomBEVGQlRU9vVy5dTfx8so3OTBW8LNTz+ZCYFDQ01LjlpgRUT+5+TJzBaeS8NPbGz+9uHvbzo0Zw09OYWgChXMKTKxncJNHrwl3KSlmXFu9uyBzz+Hhx+2uyIRES+QlGT+49y92/TriY01y5EjmevOzKxerJiZlf3S0BMZaR6vUCHzVuP+uJXCTR68JdwAvPkmPPccNG0Kv/xidzUiIj7iwgUz101OwSfr/WPHrjzWT1b+/ibkZA08WdcvfSw0VGHICQo3efCmcHP8OFSqZMbYWrcOmjSxuyIRkSLk4kUTcHIKPuktQMeOmdvEROf3HxBgBjrMKfxERJhxQapXh8qVNeEpzn1/61/Lg1WoAH//O3zzDXzyCXz6qd0ViYgUIf7+5hRUVNSVtz1/Hk6cyAw7WYPPpbfHj8Pp0+Yv1/SgdKU6qlbNDDvpS/r9sDC1AF1CLTcebvlyaN3adCg+fNi0YoqIiJc7f/7ywJM1BB05Anv3mjGBLlzIe1+hoZcHnvSlalUzG7wP0GmpPHhbuLEsM87Ntm3w8cfw+ON2VyQiIoUmNTUz6OzZk7mk34+Ly/v1Doc5rXVp+ImKMnODhYaa25AQM2K0B7cAKdzkwdvCDZhxbgYPhgYN4LffPPp3T0REClNSkmndyRp4sgagKw2GmFVAQPawk75c+tiV7rtpUkSFmzx4Y7g5dcp0LD53DhYuhDZt7K5IREQ8nmWZU1yXBp7duzM7QScmmv4/rhQYCDfdBIsXu3S36lDsY8LC4P77YcIEaNvWDO7Xvz/cdZc60IuISC4cDggPN0tMTO7bpabCmTOZYScxERISst/P7bGsj6eHpAsXnLuE3g301eglRo0yp1bnzoX5881SqRL06wd9+5p1ERERpxUrZk4tXe0VK2lpmSHJ5nCjiTW8RHg4/PijGWH8uefM0AiHD8OIEaYzfJcuZsoGm3+fRESkqPLzM31uKlc283rZWYqtP12cVqMGvP66GVX866/h5ptNi+LMmeZ0Va1aZmRjZ0YXFxER8SUKN14qKAh69IBly2DLFjN7eGio6S/23HMmOPfsCT//bPqUiYiIFBUKNz6gXj1zufjhw2aSzaZNTX+u9JadBg3go49Mny8RERFfp3DjQ0qWNLOH//KLmYuqb18oUQK2bjUtO1FR5rF16+yuVERExH0UbnxUkyYwbpwZ2PKjj0zrztmzmS07TZua9aQkuysVERFxLQ3iV0RYFqxcCWPHwtSpmVOVhIRAr15m3Jx69a68n9RUSE7Ovly4cPljOW2TmmqGXXA4TKf6K63nd7v09YsXzTx0KSnm5xV0Pafn0tLMeEPlypkr1cqXz3m9bFlzVaUvSk01HdWPHs1c4uLMXIGhoWY4gqxLEfp4iUgh0AjFeSiq4SarEyfMgICffGIGqkzXsKEZfTuv8JKaal/d3sDhgDJl8g5Al66Hhdk3GOPFi+b3IT2oXBpcst4/fty5zumlSl0eeC5dwsPde+wpKRAfb0b5jo/PXLLe9/OD2rUzlzJl3FePmNbiAwdg/34zd2T65yD9s+CrfxzI1fO6cPPxxx8zevRo4uLiaNSoER9++CHNmjXLcduJEyfy0EMPZXssKCiI8+fP5+tnKdxkSkuDRYtMa86sWQULLkFBZgkMzFzPaQkMNP9pWVbmkpbmuvtpaeZLMiDA/KyAgMwl6/28nstrW4fDfBGeOGGWv/66fD0+vuDvRenSmf9O6T87t6Ugzycl5RxeTpxwLrA4HOZLKDwcIiLMbfnyprP64cOZS347r/v5mX3kFYDKlzfjgl0ppOT0nDPT6qQLD4c6dcxSu3bmbdWqnvHFa1nm2I4cMSPrlyqVGZZDQuyde86y4ORJE1xyW/76K/fXOxym9TNr4LnSEhqq+faKCq+afuHbb79lyJAhjB07lubNm/Pee+/Rrl07duzYQcWKFXN8TUhICDt27Mi479BvdoH4+cHtt5vlyBH49VcTEHILJ5c+lv6lL8bFi+Y/9tzCT07rp06Z154+7frpXfLL4YAKFTJHac8aXC69X758/lpakpKyh52clthYE6hjY83izo7upUubFpmwMHObvoSFmRbJHTtg+3ZTR3r4W7Ys+z6CguDaa7MHnvTb0qWvvsb00BIbaz6PR47kvB4ba2rOib9/ZjhIDzzlymVfv/SxMmXyH9rS36+cQkt6a0x++vGFhpqwWLx49j8OLMvc/+sv857kh7+/OZYKFXIOPxUrmufSb8uXN/93iW+zveWmefPmNG3alI8++giAtLQ0oqOjeeKJJ/jnP/952fYTJ07kySefJL6Afyar5UY8SXogSkjI7N+T11KQbZKTzVVzuYWX/AYWV0tNNS0POQWfI0eytwIVL557OLnS/ZCQ/B9fYqL5Uk0PO9u3m/U//8zsp5aTqKjLA0+dOhAdndnqd6XQcuRI7qElJ+XKmS/spCQTBgp6cYDDYf6dcgo/wcFw8GBmcDl40PzOXkl4uAkvuS05jfKfkpL5x0Fey/HjmesFPeawsMtDT2635cppDj9P4TWnpS5cuECJEiWYNm0anTt3zni8d+/exMfHM2vWrMteM3HiRPr27UulSpVIS0vjhhtu4LXXXqNeLr1hk5OTSc7yP0ZiYiLR0dEKNyJe4uJF+79cUlPNl3t62Ml6e/Ro7q8rXty0RuTzrDlgWl4iI01gSl+y3o+MNOE0ODj7686fz2wFSW/9yNpamNNjiYnO/1v4+5tBQi8NLFWqZN5eWpu7nDuXvTX00hCUdTl2zGzr7BQ16afKcmsByu0Ch6u9DQgwpxxDQkzLYOnSmevBwUWz1dxrTkudOHGC1NRUwsPDsz0eHh7O9u3bc3xN7dq1GT9+PA0bNiQhIYG33nqLli1bsnXrVipXrnzZ9qNGjWLkyJFuqV9E3M/uYAPmtE316ma5887sz8XHXx54duyAnTvNl2+6sLCcg0rW9cjIggeD4ODMfkr5deGCaS3JLQydPXt5kImK8oy+R2DCY+XKZsmP1FRzvOlhJ6/b48fNv0HWU2Xbtrn3ePKrWLHsYacg6/7+JhA7u5w7l7/tGjc2V+baxdaWmyNHjlCpUiVWrVpFTJbp2J999lmWLVvG2rVrr7iPlJQU6tatS48ePXjllVcue14tNyJih4sXTWuPn59paSle3O6KxFnpp41zCkB//WXCUvqFDVe6zc82WW9TUjL74p0+bVrZzpyx+18k/5o3hzVrXLtPr2m5KV++PMWKFePoJe26R48eJSIiIl/7CAgIoHHjxuzatSvH54OCgggKCrrqWkVEnOHvbya6Fe/l729OQ+VybUuhS0sz/YwSE7OHnqy3+VlPTDQhKjjYfUtYmL3/VraGm8DAQJo0acKiRYsy+tykpaWxaNEiBg0alK99pKamsnnzZu68tK1YRETEh/j5ZZ5WkrzZfjZ7yJAh9O7dmxtvvJFmzZrx3nvvkZSUlDGWTa9evahUqRKjRo0C4F//+hctWrSgZs2axMfHM3r0aPbv30/fvn3tPAwRERHxELaHm+7du3P8+HFefvll4uLiuP7665k3b15GJ+MDBw7g55c5BdapU6fo168fcXFxhIWF0aRJE1atWsV1111n1yGIiIiIB7F9nJvCpnFuREREvI8z39+aFVxERER8isKNiIiI+BSFGxEREfEpCjciIiLiUxRuRERExKco3IiIiIhPUbgRERERn6JwIyIiIj5F4UZERER8isKNiIiI+BSFGxEREfEptk+cWdjSp9JKTEy0uRIRERHJr/Tv7fxMiVnkws3p06cBiI6OtrkSERERcdbp06cJDQ3Nc5siNyt4WloaR44coXTp0jgcDpfuOzExkejoaA4ePOjzM47rWH1XUTpeHavvKkrHW1SO1bIsTp8+TVRUFH5+efeqKXItN35+flSuXNmtPyMkJMSnf8Gy0rH6rqJ0vDpW31WUjrcoHOuVWmzSqUOxiIiI+BSFGxEREfEpCjcuFBQUxPDhwwkKCrK7FLfTsfquonS8OlbfVZSOtygda34VuQ7FIiIi4tvUciMiIiI+ReFGREREfIrCjYiIiPgUhRsRERHxKQo3Tvr444+55pprCA4Opnnz5vzyyy95bj916lTq1KlDcHAwDRo04McffyykSgtu1KhRNG3alNKlS1OxYkU6d+7Mjh078nzNxIkTcTgc2Zbg4OBCqvjqjBgx4rLa69Spk+drvPF9BbjmmmsuO1aHw8HAgQNz3N6b3tfly5dz9913ExUVhcPhYObMmdmetyyLl19+mcjISIoXL07btm3ZuXPnFffr7Ge+sOR1vCkpKTz33HM0aNCAkiVLEhUVRa9evThy5Eie+yzIZ6EwXOm97dOnz2V1t2/f/or79cT39krHmtPn1+FwMHr06Fz36anvqzsp3Djh22+/ZciQIQwfPpwNGzbQqFEj2rVrx7Fjx3LcftWqVfTo0YNHHnmEjRs30rlzZzp37syWLVsKuXLnLFu2jIEDB7JmzRoWLFhASkoKd9xxB0lJSXm+LiQkhNjY2Ixl//79hVTx1atXr1622lesWJHrtt76vgL8+uuv2Y5zwYIFANx77725vsZb3tekpCQaNWrExx9/nOPzb775Jh988AFjx45l7dq1lCxZknbt2nH+/Plc9+nsZ74w5XW8Z8+eZcOGDbz00kts2LCB7777jh07dnDPPfdccb/OfBYKy5XeW4D27dtnq/ubb77Jc5+e+t5e6VizHmNsbCzjx4/H4XDQrVu3PPfrie+rW1mSb82aNbMGDhyYcT81NdWKioqyRo0aleP29913n9WxY8dsjzVv3tx67LHH3Fqnqx07dswCrGXLluW6zYQJE6zQ0NDCK8qFhg8fbjVq1Cjf2/vK+2pZljV48GCrRo0aVlpaWo7Pe+v7ClgzZszIuJ+WlmZFRERYo0ePzngsPj7eCgoKsr755ptc9+PsZ94ulx5vTn755RcLsPbv35/rNs5+FuyQ07H27t3b6tSpk1P78Yb3Nj/va6dOnazbbrstz2284X11NbXc5NOFCxdYv349bdu2zXjMz8+Ptm3bsnr16hxfs3r16mzbA7Rr1y7X7T1VQkICAGXLls1zuzNnzlC1alWio6Pp1KkTW7duLYzyXGLnzp1ERUVRvXp1evbsyYEDB3Ld1lfe1wsXLvDll1/y8MMP5zmJrDe/r+n27t1LXFxctvctNDSU5s2b5/q+FeQz78kSEhJwOByUKVMmz+2c+Sx4kqVLl1KxYkVq167NgAED+Ouvv3Ld1lfe26NHjzJnzhweeeSRK27rre9rQSnc5NOJEydITU0lPDw82+Ph4eHExcXl+Jq4uDintvdEaWlpPPnkk9x0003Ur18/1+1q167N+PHjmTVrFl9++SVpaWm0bNmSQ4cOFWK1BdO8eXMmTpzIvHnzGDNmDHv37qVVq1acPn06x+194X0FmDlzJvHx8fTp0yfXbbz5fc0q/b1x5n0ryGfeU50/f57nnnuOHj165DmxorOfBU/Rvn17Jk2axKJFi3jjjTdYtmwZHTp0IDU1NcftfeW9/e9//0vp0qXp2rVrntt56/t6NYrcrODinIEDB7Jly5Yrnp+NiYkhJiYm437Lli2pW7cun3zyCa+88oq7y7wqHTp0yFhv2LAhzZs3p2rVqkyZMiVffxF5q88//5wOHToQFRWV6zbe/L6KkZKSwn333YdlWYwZMybPbb31s3D//fdnrDdo0ICGDRtSo0YNli5dSps2bWyszL3Gjx9Pz549r9jJ31vf16uhlpt8Kl++PMWKFePo0aPZHj969CgRERE5viYiIsKp7T3NoEGDmD17NkuWLKFy5cpOvTYgIIDGjRuza9cuN1XnPmXKlOHaa6/NtXZvf18B9u/fz8KFC+nbt69Tr/PW9zX9vXHmfSvIZ97TpAeb/fv3s2DBgjxbbXJypc+Cp6pevTrly5fPtW5feG9//vlnduzY4fRnGLz3fXWGwk0+BQYG0qRJExYtWpTxWFpaGosWLcr2l21WMTEx2bYHWLBgQa7bewrLshg0aBAzZsxg8eLFVKtWzel9pKamsnnzZiIjI91QoXudOXOG3bt351q7t76vWU2YMIGKFSvSsWNHp17nre9rtWrViIiIyPa+JSYmsnbt2lzft4J85j1JerDZuXMnCxcupFy5ck7v40qfBU916NAh/vrrr1zr9vb3FkzLa5MmTWjUqJHTr/XW99Updvdo9iaTJ0+2goKCrIkTJ1p//PGH9eijj1plypSx4uLiLMuyrAcffND65z//mbH9ypUrLX9/f+utt96ytm3bZg0fPtwKCAiwNm/ebNch5MuAAQOs0NBQa+nSpVZsbGzGcvbs2YxtLj3WkSNHWvPnz7d2795trV+/3rr//vut4OBga+vWrXYcglOefvppa+nSpdbevXutlStXWm3btrXKly9vHTt2zLIs33lf06WmplpVqlSxnnvuucue8+b39fTp09bGjRutjRs3WoD1zjvvWBs3bsy4Ouj111+3ypQpY82aNcv6/fffrU6dOlnVqlWzzp07l7GP2267zfrwww8z7l/pM2+nvI73woUL1j333GNVrlzZ2rRpU7bPcXJycsY+Lj3eK30W7JLXsZ4+fdoaOnSotXr1amvv3r3WwoULrRtuuMGqVauWdf78+Yx9eMt7e6XfY8uyrISEBKtEiRLWmDFjctyHt7yv7qRw46QPP/zQqlKlihUYGGg1a9bMWrNmTcZzrVu3tnr37p1t+ylTpljXXnutFRgYaNWrV8+aM2dOIVfsPCDHZcKECRnbXHqsTz75ZMa/S3h4uHXnnXdaGzZsKPziC6B79+5WZGSkFRgYaFWqVMnq3r27tWvXroznfeV9TTd//nwLsHbs2HHZc978vi5ZsiTH39v040lLS7NeeuklKzw83AoKCrLatGlz2b9B1apVreHDh2d7LK/PvJ3yOt69e/fm+jlesmRJxj4uPd4rfRbsktexnj171rrjjjusChUqWAEBAVbVqlWtfv36XRZSvOW9vdLvsWVZ1ieffGIVL17cio+Pz3Ef3vK+upPDsizLrU1DIiIiIoVIfW5ERETEpyjciIiIiE9RuBERERGfonAjIiIiPkXhRkRERHyKwo2IiIj4FIUbERER8SkKNyIiIuJTFG5EpEhyOBzMnDnT7jJExA0UbkSk0PXp0weHw3HZ0r59e7tLExEf4G93ASJSNLVv354JEyZkeywoKMimakTEl6jlRkRsERQURERERLYlLCwMMKeMxowZQ4cOHShevDjVq1dn2rRp2V6/efNmbrvtNooXL065cuV49NFHOXPmTLZtxo8fT7169QgKCiIyMpJBgwZle/7EiRN06dKFEiVKUKtWLb7//vuM506dOkXPnj2pUKECxYsXp1atWpeFMRHxTAo3IuKRXnrpJbp168Zvv/1Gz549uf/++9m2bRsASUlJtGvXjrCwMH799VemTp3KwoULs4WXMWPGMHDgQB599FE2b97M999/T82aNbP9jJEjR3Lffffx+++/c+edd9KzZ09OnjyZ8fP/+OMP5s6dy7Zt2xgzZgzly5cvvH8AESk4u6clF5Gip3fv3laxYsWskiVLZlv+/e9/W5ZlWYDVv3//bK9p3ry5NWDAAMuyLOvTTz+1wsLCrDNnzmQ8P2fOHMvPz8+Ki4uzLMuyoqKirBdeeCHXGgDrxRdfzLh/5swZC7Dmzp1rWZZl3X333dZDDz3kmgMWkUKlPjciYotbb72VMWPGZHusbNmyGesxMTHZnouJiWHTpk0AbNu2jUaNGlGyZMmM52+66SbS0tLYsWMHDoeDI0eO0KZNmzxraNiwYcZ6yZIlCQkJ4dixYwAMGDCAbt26sWHDBu644w46d+5My5YtC3SsIlK4FG5ExBYlS5a87DSRqxQvXjxf2wUEBGS773A4SEtLA6BDhw7s37+fH3/8kQULFtCmTRsGDhzIW2+95fJ6RcS11OdGRDzSmjVrLrtft25dAOrWrctvv/1GUlJSxvMrV67Ez8+P2rVrU7p0aa655hoWLVp0VTVUqFCB3r178+WXX/Lee+/x6aefXtX+RKRwqOVGRGyRnJxMXFxctsf8/f0zOu1OnTqVG2+8kb/97W989dVX/PLLL3z++ecA9OzZk+HDh9O7d29GjBjB8ePHeeKJJ3jwwQcJDw8HYMSIEfTv35+KFSvSoUMHTp8+zcqVK3niiSfyVd/LL79MkyZNqFevHsnJycyePTsjXImIZ1O4ERFbzJs3j8jIyGyP1a5dm+3btwPmSqbJkyfz+OOPExkZyTfffMN1110HQIkSJZg/fz6DBw+madOmlChRgm7duvHOO+9k7Kt3796cP3+ed999l6FDh1K+fHn+/ve/57u+wMBAhg0bxr59+yhevDitWrVi8uTJLjhyEXE3h2VZlt1FiIhk5XA4mDFjBp07d7a7FBHxQupzIyIiIj5F4UZERER8ivrciIjH0dlyEbkaarkRERERn6JwIyIiIj5F4UZERER8isKNiIiI+BSFGxEREfEpCjciIiLiUxRuRERExKco3IiIiIhP+X8xzRAaPGNb+gAAAABJRU5ErkJggg==)\n"
      ],
      "metadata": {
        "id": "ecubSk7GZKKp"
      }
    }
  ]
}