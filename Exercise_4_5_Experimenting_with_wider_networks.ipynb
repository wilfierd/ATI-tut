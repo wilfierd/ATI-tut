{
  "nbformat": 4,
  "nbformat_minor": 0,
  "metadata": {
    "colab": {
      "provenance": []
    },
    "kernelspec": {
      "name": "python3",
      "display_name": "Python 3"
    },
    "language_info": {
      "name": "python"
    }
  },
  "cells": [
    {
      "cell_type": "markdown",
      "source": [
        "## Exercise 4.5 Experimenting with wider networks"
      ],
      "metadata": {
        "id": "ApEGsGnec6BZ"
      }
    },
    {
      "cell_type": "markdown",
      "source": [
        "In this exercise, you will use the same titanic dataset from the previous exercises. You can download the dataset from the following link:\n",
        "\n",
        "[titanic_all_numeric.csv](https://drive.google.com/file/d/11nuYS-l3EXCsGJt81y4YTt3oTnFGaB68/view?usp=drive_link)\n",
        "\n",
        "The data is pre-loaded into a pandas DataFrame called `df`. The `predictors` and `target` values are also pre-defined.\n",
        "\n",
        "In this exercise, you begin experimenting with different models!\n",
        "\n",
        "You will create two models, each model has two hidden layers and one output layer. The first model, `model_1`, has `10` units in the hidden layers. The second model, `model_2`, has `100` units in the hidden layers.\n",
        "\n",
        "So we say, `mode_2` is wider than `model_1`.\n",
        "\n",
        "After you create `model_1` and `model_2`, both models will be fitted, and a graph showing both models loss score at each epoch will be shown.\n",
        "\n",
        "We added the argument `verbose=False` in the fitting commands to print out fewer updates, since you will look at these graphically instead of as text.\n",
        "\n",
        "Because you are fitting two models, it will take a moment to see the outputs after you hit run, so be patient."
      ],
      "metadata": {
        "id": "mEOOH6NdV42q"
      }
    },
    {
      "cell_type": "markdown",
      "source": [
        "## Instructions"
      ],
      "metadata": {
        "id": "-AWPd5Wqft_d"
      }
    },
    {
      "cell_type": "markdown",
      "source": [
        "* Create `model_1` and `model_2`, for the first two Dense layers, `model_1` has `10` units and `model_2` has `100` units. The activation function for the hidden layers are `'relu'`. Use `2` nodes for the Dense output layer with `'softmax'` as the activation.\n",
        "* Compile `model_1` and `model_2` as you have done in the previous exercise: Using `'adam'` as the optimizer, `'categorical_crossentropy'` for the loss, and `metrics=['accuracy']`.\n",
        "* Fit both the models and visualize to see which one gives better results! Notice the keyword argument `verbose=False` in `model.fit()`: This prints out fewer updates, since you'll be evaluating the models graphically instead of through text."
      ],
      "metadata": {
        "id": "fNotC4abWBqN"
      }
    },
    {
      "cell_type": "markdown",
      "source": [
        "## Code"
      ],
      "metadata": {
        "id": "oKx-pAyrlVGO"
      }
    },
    {
      "cell_type": "markdown",
      "source": [
        "Load data and convert the data to NumPy array:"
      ],
      "metadata": {
        "id": "K2uQ5t2BRtpg"
      }
    },
    {
      "cell_type": "code",
      "execution_count": null,
      "metadata": {
        "id": "dlu9wWcWcy44"
      },
      "outputs": [],
      "source": [
        "import numpy as np\n",
        "import pandas as pd\n",
        "from tensorflow.keras.utils import to_categorical\n",
        "\n",
        "# Load csv file into the dataframe: df\n",
        "df = pd.read_csv(\"titanic_all_numeric.csv\")\n",
        "\n",
        "# Convert the boolean values of the 'age_was_missing' column to integer\n",
        "df.age_was_missing = df.age_was_missing.replace({True: 1, False: 0})\n",
        "\n",
        "# Create predictors NumPy array: predictors\n",
        "predictors = df.drop(['survived'], axis=1).values\n",
        "\n",
        "# Save the number of columns in predictors: n_cols\n",
        "n_cols = predictors.shape[1]\n",
        "\n",
        "# Convert the target to categorical: target\n",
        "target = to_categorical(df['survived'])\n",
        "\n",
        "# Define the input shape: input_shape\n",
        "input_shape = (n_cols,)\n"
      ]
    },
    {
      "cell_type": "markdown",
      "source": [
        "Create a neural network for a classification task"
      ],
      "metadata": {
        "id": "9jf6A0pPsATU"
      }
    },
    {
      "cell_type": "code",
      "source": [
        "from tensorflow.keras.layers import Dense\n",
        "from tensorflow.keras.models import Sequential\n",
        "\n",
        "# Define a function to create model_1:\n",
        "def get_new_model1(input_shape):\n",
        "  # Set up the model\n",
        "  ____\n",
        "\n",
        "# Define a function to create model_2:\n",
        "def get_new_model2(input_shape):\n",
        "  # Set up the model\n",
        "  ____\n"
      ],
      "metadata": {
        "id": "wkgdNpMmsKmt"
      },
      "execution_count": null,
      "outputs": []
    },
    {
      "cell_type": "markdown",
      "source": [
        "Compile and fit the model with a validation dataset:"
      ],
      "metadata": {
        "id": "u986qJ_NOK1h"
      }
    },
    {
      "cell_type": "code",
      "source": [
        "import matplotlib.pyplot as plt\n",
        "\n",
        "# Import EarlyStopping\n",
        "____\n",
        "\n",
        "# Specify the model_1\n",
        "model_1 = get_new_model1(input_shape)\n",
        "\n",
        "# Specify the model_2\n",
        "model_2 = get_new_model2(input_shape)\n",
        "\n",
        "# Compile the model_1\n",
        "____\n",
        "\n",
        "# Compile the model_2\n",
        "____\n",
        "\n",
        "# Define early_stopping_monitor with patience = 5\n",
        "early_stopping_monitor = ____\n",
        "\n",
        "# Fit model_1\n",
        "model_1_training = model_1.fit(predictors, target, epochs=20, validation_split=0.2, callbacks=[early_stopping_monitor], verbose=False)\n",
        "\n",
        "# Fit model_2\n",
        "model_2_training = model_2.fit(predictors, target, epochs=20, validation_split=0.2, callbacks=[early_stopping_monitor], verbose=False)\n",
        "\n",
        "# Create the plot\n",
        "plt.plot(model_1_training.history['val_loss'], 'r', model_2_training.history['val_loss'], 'b')\n",
        "plt.xlabel('Epochs')\n",
        "plt.ylabel('Validation score')\n",
        "plt.show()\n"
      ],
      "metadata": {
        "id": "rdrPE2NrOjS5"
      },
      "execution_count": null,
      "outputs": []
    },
    {
      "cell_type": "markdown",
      "source": [
        "The ouput should be:\n",
        "\n",
        "![download_03.png](data:image/png;base64,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)\n"
      ],
      "metadata": {
        "id": "ecubSk7GZKKp"
      }
    }
  ]
}