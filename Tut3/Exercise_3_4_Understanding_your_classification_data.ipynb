{
  "nbformat": 4,
  "nbformat_minor": 0,
  "metadata": {
    "colab": {
      "provenance": [],
      "include_colab_link": true
    },
    "kernelspec": {
      "name": "python3",
      "display_name": "Python 3"
    },
    "language_info": {
      "name": "python"
    }
  },
  "cells": [
    {
      "cell_type": "markdown",
      "metadata": {
        "id": "view-in-github",
        "colab_type": "text"
      },
      "source": [
        "<a href=\"https://colab.research.google.com/github/wilfierd/ATI-tut/blob/test/Exercise_3_4_Understanding_your_classification_data.ipynb\" target=\"_parent\"><img src=\"https://colab.research.google.com/assets/colab-badge.svg\" alt=\"Open In Colab\"/></a>"
      ]
    },
    {
      "cell_type": "markdown",
      "source": [
        "## Exercise 3.4 Understanding your classification data\n",
        "Now you will start modeling with a new dataset for a classification problem. This data includes information about passengers on the Titanic. You will use predictors such as `age`, `fare` and where each passenger `embarked` from to predict who will survive.\n",
        "\n",
        "You can download the .csv file from the following link:\n",
        "\n",
        "[titanic_all_numeric.csv](https://drive.google.com/file/d/11nuYS-l3EXCsGJt81y4YTt3oTnFGaB68/view?usp=drive_link)\n",
        "\n",
        "The data is pre-loaded into a pandas DataFrame called `df`. You can Use the `head()` and `describe()` methods for a quick overview of the DataFrame.\n",
        "\n",
        "In this exercise, you will practice performing some exploratory analysis on your data to figure out: What was the maximum age of passengers on the Titanic?"
      ],
      "metadata": {
        "id": "ApEGsGnec6BZ"
      }
    },
    {
      "cell_type": "markdown",
      "source": [
        "## Instructions\n",
        "\n",
        "* The min and max values as shown by `describe()` will be informative here.\n",
        "What was the maximum age of passengers on the Titanic?\n",
        "  * 29.699\n",
        "  * 80\n",
        "  * 891\n",
        "  * It is not listed"
      ],
      "metadata": {
        "id": "-AWPd5Wqft_d"
      }
    },
    {
      "cell_type": "markdown",
      "source": [
        "## Code"
      ],
      "metadata": {
        "id": "oKx-pAyrlVGO"
      }
    },
    {
      "cell_type": "code",
      "execution_count": 1,
      "metadata": {
        "id": "dlu9wWcWcy44"
      },
      "outputs": [],
      "source": [
        "import pandas as pd\n",
        "# Load csv file into the dataframe: df\n",
        "df = pd.read_csv(\"titanic_all_numeric.csv\")"
      ]
    },
    {
      "cell_type": "markdown",
      "source": [
        "Perfome exploratory analysis using `head()` and `describe()` methods"
      ],
      "metadata": {
        "id": "u986qJ_NOK1h"
      }
    },
    {
      "cell_type": "code",
      "source": [
        "# Display the first few rows of the dataframe\n",
        "print(\"First 5 rows of the dataset:\")\n",
        "print(df.head())\n",
        "\n",
        "print(\"\\n\" + \"=\"*50 + \"\\n\")\n",
        "\n",
        "# Display statistical summary of the dataframe\n",
        "print(\"Statistical summary of the dataset:\")\n",
        "print(df.describe())\n",
        "\n",
        "print(\"\\n\" + \"=\"*50 + \"\\n\")\n",
        "\n",
        "# Answer the question: What was the maximum age of passengers?\n",
        "max_age = df['age'].max()\n",
        "print(f\"Maximum age of passengers on the Titanic: {max_age}\")"
      ],
      "metadata": {
        "id": "rdrPE2NrOjS5",
        "outputId": "6f25fc19-dd58-4b48-fa63-0cbc5b702788",
        "colab": {
          "base_uri": "https://localhost:8080/"
        }
      },
      "execution_count": 3,
      "outputs": [
        {
          "output_type": "stream",
          "name": "stdout",
          "text": [
            "First 5 rows of the dataset:\n",
            "   survived  pclass   age  sibsp  parch     fare  male  age_was_missing  \\\n",
            "0         0       3  22.0      1      0   7.2500     1            False   \n",
            "1         1       1  38.0      1      0  71.2833     0            False   \n",
            "2         1       3  26.0      0      0   7.9250     0            False   \n",
            "3         1       1  35.0      1      0  53.1000     0            False   \n",
            "4         0       3  35.0      0      0   8.0500     1            False   \n",
            "\n",
            "   embarked_from_cherbourg  embarked_from_queenstown  \\\n",
            "0                        0                         0   \n",
            "1                        1                         0   \n",
            "2                        0                         0   \n",
            "3                        0                         0   \n",
            "4                        0                         0   \n",
            "\n",
            "   embarked_from_southampton  \n",
            "0                          1  \n",
            "1                          0  \n",
            "2                          1  \n",
            "3                          1  \n",
            "4                          1  \n",
            "\n",
            "==================================================\n",
            "\n",
            "Statistical summary of the dataset:\n",
            "         survived      pclass         age       sibsp       parch        fare  \\\n",
            "count  891.000000  891.000000  891.000000  891.000000  891.000000  891.000000   \n",
            "mean     0.383838    2.308642   29.699118    0.523008    0.381594   32.204208   \n",
            "std      0.486592    0.836071   13.002015    1.102743    0.806057   49.693429   \n",
            "min      0.000000    1.000000    0.420000    0.000000    0.000000    0.000000   \n",
            "25%      0.000000    2.000000   22.000000    0.000000    0.000000    7.910400   \n",
            "50%      0.000000    3.000000   29.699118    0.000000    0.000000   14.454200   \n",
            "75%      1.000000    3.000000   35.000000    1.000000    0.000000   31.000000   \n",
            "max      1.000000    3.000000   80.000000    8.000000    6.000000  512.329200   \n",
            "\n",
            "             male  embarked_from_cherbourg  embarked_from_queenstown  \\\n",
            "count  891.000000               891.000000                891.000000   \n",
            "mean     0.647587                 0.188552                  0.086420   \n",
            "std      0.477990                 0.391372                  0.281141   \n",
            "min      0.000000                 0.000000                  0.000000   \n",
            "25%      0.000000                 0.000000                  0.000000   \n",
            "50%      1.000000                 0.000000                  0.000000   \n",
            "75%      1.000000                 0.000000                  0.000000   \n",
            "max      1.000000                 1.000000                  1.000000   \n",
            "\n",
            "       embarked_from_southampton  \n",
            "count                 891.000000  \n",
            "mean                    0.722783  \n",
            "std                     0.447876  \n",
            "min                     0.000000  \n",
            "25%                     0.000000  \n",
            "50%                     1.000000  \n",
            "75%                     1.000000  \n",
            "max                     1.000000  \n",
            "\n",
            "==================================================\n",
            "\n",
            "Maximum age of passengers on the Titanic: 80.0\n"
          ]
        }
      ]
    }
  ]
}