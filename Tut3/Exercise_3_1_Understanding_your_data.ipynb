{
  "cells": [
    {
      "cell_type": "markdown",
      "metadata": {
        "id": "ApEGsGnec6BZ"
      },
      "source": [
        "## Exercise 3.1 Understanding your data\n",
        "You will soon start building models in Keras to predict wages based on various professional and demographic factors.\n",
        "\n",
        "Before you start building a model, it's good to understand your data by performing some exploratory analysis.\n",
        "\n",
        "In this exercise, you will work with a .csv file that contains some data about workers in a company. You can download this file from the following link:\n",
        "\n",
        "[hourly_wages.csv](https://drive.google.com/file/d/1elGBb48CX728knwJzU3ImHNvtuRoG7vu/view?usp=drive_link)\n",
        "\n",
        "The data is pre-loaded into a pandas DataFrame called `df`. You can Use the `head()` and `describe()` methods for a quick overview of the DataFrame.\n",
        "\n",
        "The target variable you'll be predicting is wage_per_hour. Some of the predictor variables are binary indicators, where a value of 1 represents True, and 0 represents False.\n",
        "\n",
        "In this exercise, you will practice performing some exploratory analysis on your data to figure out: Of the 9 predictor variables in the DataFrame, how many are binary indicators?\n"
      ]
    },
    {
      "cell_type": "markdown",
      "metadata": {
        "id": "-AWPd5Wqft_d"
      },
      "source": [
        "## Instructions\n",
        "\n",
        "* The min and max values as shown by `describe()` will be informative here.\n",
        "How many binary indicator predictors are there?\n",
        "  * 0\n",
        "  * 5\n",
        "  * 6"
      ]
    },
    {
      "cell_type": "markdown",
      "metadata": {
        "id": "oKx-pAyrlVGO"
      },
      "source": [
        "## Code"
      ]
    },
    {
      "cell_type": "code",
      "execution_count": null,
      "metadata": {
        "id": "dlu9wWcWcy44"
      },
      "outputs": [],
      "source": [
        "import pandas as pd\n",
        "# Load csv file into the dataframe: df\n",
        "df = pd.read_csv(\"hourly_wages.csv\")"
      ]
    },
    {
      "cell_type": "markdown",
      "metadata": {
        "id": "u986qJ_NOK1h"
      },
      "source": [
        "Perfome exploratory analysis using `head()` and `describe()` methods"
      ]
    },
    {
      "cell_type": "code",
      "execution_count": null,
      "metadata": {
        "id": "rdrPE2NrOjS5"
      },
      "outputs": [],
      "source": [
        "# Display the first few rows of the dataframe\n",
        "print(\"First 5 rows of the dataset:\")\n",
        "print(df.head())\n",
        "\n",
        "print(\"\\n\" + \"=\"*50 + \"\\n\")\n",
        "\n",
        "# Display statistical summary of the dataframe\n",
        "print(\"Statistical summary of the dataset:\")\n",
        "print(df.describe())\n",
        "\n",
        "print(\"\\n\" + \"=\"*50 + \"\\n\")\n",
        "\n",
        "# Check the shape and column names\n",
        "print(f\"Dataset shape: {df.shape}\")\n",
        "print(f\"Column names: {list(df.columns)}\")\n",
        "\n",
        "print(\"\\n\" + \"=\"*50 + \"\\n\")\n",
        "\n",
        "# Analyze binary indicators by checking min/max values for each column\n",
        "print(\"Analysis of potential binary indicators:\")\n",
        "print(\"(Binary indicators should have min=0 and max=1)\")\n",
        "for column in df.columns:\n",
        "    if column != 'wage_per_hour':  # Exclude target variable\n",
        "        min_val = df[column].min()\n",
        "        max_val = df[column].max()\n",
        "        unique_vals = sorted(df[column].unique())\n",
        "        is_binary = (min_val == 0 and max_val == 1 and len(unique_vals) == 2)\n",
        "        print(f\"{column}: min={min_val}, max={max_val}, unique_values={unique_vals}, is_binary={is_binary}\")\n",
        "\n",
        "# Count binary indicators\n",
        "binary_count = 0\n",
        "for column in df.columns:\n",
        "    if column != 'wage_per_hour':\n",
        "        if df[column].min() == 0 and df[column].max() == 1 and len(df[column].unique()) == 2:\n",
        "            binary_count += 1\n",
        "\n",
        "print(f\"\\nNumber of binary indicator predictors: {binary_count}\")"
      ]
    }
  ],
  "metadata": {
    "colab": {
      "provenance": []
    },
    "kernelspec": {
      "display_name": "Python 3",
      "name": "python3"
    },
    "language_info": {
      "name": "python"
    }
  },
  "nbformat": 4,
  "nbformat_minor": 0
}
