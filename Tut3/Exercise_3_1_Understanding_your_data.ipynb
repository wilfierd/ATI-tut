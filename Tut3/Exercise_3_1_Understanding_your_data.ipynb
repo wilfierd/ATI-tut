{
  "nbformat": 4,
  "nbformat_minor": 0,
  "metadata": {
    "colab": {
      "provenance": [],
      "include_colab_link": true
    },
    "kernelspec": {
      "name": "python3",
      "display_name": "Python 3"
    },
    "language_info": {
      "name": "python"
    }
  },
  "cells": [
    {
      "cell_type": "markdown",
      "metadata": {
        "id": "view-in-github",
        "colab_type": "text"
      },
      "source": [
        "<a href=\"https://colab.research.google.com/github/wilfierd/ATI-tut/blob/main/Exercise_3_1_Understanding_your_data.ipynb\" target=\"_parent\"><img src=\"https://colab.research.google.com/assets/colab-badge.svg\" alt=\"Open In Colab\"/></a>"
      ]
    },
    {
      "cell_type": "markdown",
      "source": [
        "## Exercise 3.1 Understanding your data\n",
        "You will soon start building models in Keras to predict wages based on various professional and demographic factors.\n",
        "\n",
        "Before you start building a model, it's good to understand your data by performing some exploratory analysis.\n",
        "\n",
        "In this exercise, you will work with a .csv file that contains some data about workers in a company. You can download this file from the following link:\n",
        "\n",
        "[hourly_wages.csv](https://drive.google.com/file/d/1elGBb48CX728knwJzU3ImHNvtuRoG7vu/view?usp=drive_link)\n",
        "\n",
        "The data is pre-loaded into a pandas DataFrame called `df`. You can Use the `head()` and `describe()` methods for a quick overview of the DataFrame.\n",
        "\n",
        "The target variable you'll be predicting is wage_per_hour. Some of the predictor variables are binary indicators, where a value of 1 represents True, and 0 represents False.\n",
        "\n",
        "In this exercise, you will practice performing some exploratory analysis on your data to figure out: Of the 9 predictor variables in the DataFrame, how many are binary indicators?\n"
      ],
      "metadata": {
        "id": "ApEGsGnec6BZ"
      }
    },
    {
      "cell_type": "markdown",
      "source": [
        "## Instructions\n",
        "\n",
        "* The min and max values as shown by `describe()` will be informative here.\n",
        "How many binary indicator predictors are there?\n",
        "  * 0\n",
        "  * 5\n",
        "  * 6"
      ],
      "metadata": {
        "id": "-AWPd5Wqft_d"
      }
    },
    {
      "cell_type": "markdown",
      "source": [
        "## Code"
      ],
      "metadata": {
        "id": "oKx-pAyrlVGO"
      }
    },
    {
      "cell_type": "code",
      "execution_count": null,
      "metadata": {
        "id": "dlu9wWcWcy44"
      },
      "outputs": [],
      "source": [
        "import pandas as pd\n",
        "# Load csv file into the dataframe: df\n",
        "df = pd.read_csv(\"hourly_wages.csv\")"
      ]
    },
    {
      "cell_type": "markdown",
      "source": [
        "Perfome exploratory analysis using `head()` and `describe()` methods"
      ],
      "metadata": {
        "id": "u986qJ_NOK1h"
      }
    },
    {
      "cell_type": "code",
      "source": [
        "# Display the first few rows of the dataframe\n",
        "print(\"First 5 rows of the dataset:\")\n",
        "print(df.head())\n",
        "\n",
        "print(\"\\n\" + \"=\"*50 + \"\\n\")\n",
        "\n",
        "# Display statistical summary of the dataframe\n",
        "print(\"Statistical summary of the dataset:\")\n",
        "print(df.describe())\n",
        "\n",
        "print(\"\\n\" + \"=\"*50 + \"\\n\")\n",
        "\n",
        "# Check the shape and column names\n",
        "print(f\"Dataset shape: {df.shape}\")\n",
        "print(f\"Column names: {list(df.columns)}\")"
      ],
      "metadata": {
        "id": "rdrPE2NrOjS5",
        "outputId": "c1f0e1e1-25ca-4d66-a5f1-c8998362ab51",
        "colab": {
          "base_uri": "https://localhost:8080/"
        }
      },
      "execution_count": 5,
      "outputs": [
        {
          "output_type": "stream",
          "name": "stdout",
          "text": [
            "First 5 rows of the dataset:\n",
            "   wage_per_hour  union  education_yrs  experience_yrs  age  female  marr  \\\n",
            "0           5.10      0              8              21   35       1     1   \n",
            "1           4.95      0              9              42   57       1     1   \n",
            "2           6.67      0             12               1   19       0     0   \n",
            "3           4.00      0             12               4   22       0     0   \n",
            "4           7.50      0             12              17   35       0     1   \n",
            "\n",
            "   south  manufacturing  construction  \n",
            "0      0              1             0  \n",
            "1      0              1             0  \n",
            "2      0              1             0  \n",
            "3      0              0             0  \n",
            "4      0              0             0  \n",
            "\n",
            "==================================================\n",
            "\n",
            "Statistical summary of the dataset:\n",
            "       wage_per_hour       union  education_yrs  experience_yrs         age  \\\n",
            "count     534.000000  534.000000     534.000000      534.000000  534.000000   \n",
            "mean        9.024064    0.179775      13.018727       17.822097   36.833333   \n",
            "std         5.139097    0.384360       2.615373       12.379710   11.726573   \n",
            "min         1.000000    0.000000       2.000000        0.000000   18.000000   \n",
            "25%         5.250000    0.000000      12.000000        8.000000   28.000000   \n",
            "50%         7.780000    0.000000      12.000000       15.000000   35.000000   \n",
            "75%        11.250000    0.000000      15.000000       26.000000   44.000000   \n",
            "max        44.500000    1.000000      18.000000       55.000000   64.000000   \n",
            "\n",
            "           female        marr       south  manufacturing  construction  \n",
            "count  534.000000  534.000000  534.000000     534.000000    534.000000  \n",
            "mean     0.458801    0.655431    0.292135       0.185393      0.044944  \n",
            "std      0.498767    0.475673    0.455170       0.388981      0.207375  \n",
            "min      0.000000    0.000000    0.000000       0.000000      0.000000  \n",
            "25%      0.000000    0.000000    0.000000       0.000000      0.000000  \n",
            "50%      0.000000    1.000000    0.000000       0.000000      0.000000  \n",
            "75%      1.000000    1.000000    1.000000       0.000000      0.000000  \n",
            "max      1.000000    1.000000    1.000000       1.000000      1.000000  \n",
            "\n",
            "==================================================\n",
            "\n",
            "Dataset shape: (534, 10)\n",
            "Column names: ['wage_per_hour', 'union', 'education_yrs', 'experience_yrs', 'age', 'female', 'marr', 'south', 'manufacturing', 'construction']\n"
          ]
        }
      ]
    }
  ]
}