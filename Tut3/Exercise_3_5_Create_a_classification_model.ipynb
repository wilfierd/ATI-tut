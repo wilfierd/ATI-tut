{
  "nbformat": 4,
  "nbformat_minor": 0,
  "metadata": {
    "colab": {
      "provenance": []
    },
    "kernelspec": {
      "name": "python3",
      "display_name": "Python 3"
    },
    "language_info": {
      "name": "python"
    }
  },
  "cells": [
    {
      "cell_type": "markdown",
      "source": [
        "## Exercise 3.5 Create a classification model\n"
      ],
      "metadata": {
        "id": "ApEGsGnec6BZ"
      }
    },
    {
      "cell_type": "markdown",
      "source": [
        "In this exercise, you will write code to create a neural network for classification task.\n",
        "\n",
        "You can download the titanic dataset from the following link:\n",
        "\n",
        "[titanic_all_numeric.csv](https://drive.google.com/file/d/11nuYS-l3EXCsGJt81y4YTt3oTnFGaB68/view?usp=drive_link)\n",
        "\n",
        "The data is pre-loaded into a pandas DataFrame called `df`.\n",
        "\n",
        "You'll take information about the passengers and predict which ones survived.\n",
        "\n",
        "The target variable you'll be predicting is `survived`. You will have to convert it to a categorical variable named `target`. For convenience, everything in `df` except for the target has been converted to a NumPy array called `predictors`.\n",
        "\n",
        "You'll create a neural network with a hidden layer and an output layer. The network can be created with the `Sequential` model constructor and the `Dense` layer constructor.\n",
        "\n",
        "The neural network is used for a classification task, therefore, you will use `'sgd'` optimizer and `'categorical_crossentropy'` loss function when you compile the model.\n",
        "\n",
        "After successfully compiling the model, you can fit your model using the `predictors` data and the `target` data."
      ],
      "metadata": {
        "id": "mEOOH6NdV42q"
      }
    },
    {
      "cell_type": "markdown",
      "source": [
        "## Instructions"
      ],
      "metadata": {
        "id": "-AWPd5Wqft_d"
      }
    },
    {
      "cell_type": "markdown",
      "source": [
        "* Convert `df.survived` to a categorical variable using the `to_categorical()` function.\n",
        "* Specify a `Sequential` model called `model`.\n",
        "* Add a `Dense` layer with `32` nodes. Use `'relu'` as the activation and `(n_cols,)` as the input_shape.\n",
        "* Add the `Dense` output layer. Because there are two outcomes, it should have `2` units, and because it is a classification model, the activation should be `'softmax'`.\n",
        "* Compile the model, using `'sgd'` as the optimizer, `'categorical_crossentropy'` as the loss function, and `metrics=['accuracy']` to see the accuracy (what fraction of predictions were correct) at the end of each epoch.\n",
        "* Fit the model using the `predictors` and the `target`."
      ],
      "metadata": {
        "id": "fNotC4abWBqN"
      }
    },
    {
      "cell_type": "markdown",
      "source": [
        "## Code"
      ],
      "metadata": {
        "id": "oKx-pAyrlVGO"
      }
    },
    {
      "cell_type": "markdown",
      "source": [
        "Load data and convert the data to NumPy array:"
      ],
      "metadata": {
        "id": "K2uQ5t2BRtpg"
      }
    },
    {
      "cell_type": "code",
      "execution_count": null,
      "metadata": {
        "id": "dlu9wWcWcy44"
      },
      "outputs": [],
      "source": [
        "import numpy as np\n",
        "import pandas as pd\n",
        "\n",
        "# Load csv file into the dataframe: df\n",
        "df = pd.read_csv(\"titanic_all_numeric.csv\")\n",
        "\n",
        "# Convert the boolean values of the 'age_was_missing' column to integer\n",
        "df.age_was_missing = df.age_was_missing.replace({True: 1, False: 0})\n",
        "\n",
        "# Create predictors NumPy array: predictors\n",
        "predictors = df.drop(['survived'], axis=1).values\n"
      ]
    },
    {
      "cell_type": "markdown",
      "source": [
        "Create the neural network, then compile and fit the model"
      ],
      "metadata": {
        "id": "u986qJ_NOK1h"
      }
    },
    {
      "cell_type": "code",
      "source": [
        "# Import necessary modules\n",
        "from tensorflow.keras.layers import Dense\n",
        "from tensorflow.keras.models import Sequential\n",
        "from tensorflow.keras.utils import to_categorical\n",
        "\n",
        "# Save the number of columns in predictors: n_cols\n",
        "n_cols = predictors.shape[1]\n",
        "\n",
        "# Convert the target to categorical: target\n",
        "target = ____\n",
        "\n",
        "# Set up the model\n",
        "model = ____\n",
        "\n",
        "# Add the first layer\n",
        "____\n",
        "\n",
        "# Add the output layer\n",
        "____\n",
        "\n",
        "# Compile the model\n",
        "____\n",
        "\n",
        "# Fit the model\n",
        "____"
      ],
      "metadata": {
        "id": "rdrPE2NrOjS5"
      },
      "execution_count": null,
      "outputs": []
    },
    {
      "cell_type": "markdown",
      "source": [
        "The ouput should be:\n",
        "\n",
        "28/28 ━━━━━━━━━━━━━━━━━━━━ 1s 2ms/step - accuracy: 0.6006 - loss: 3.6092   \n",
        "<keras.src.callbacks.history.History at 0x7af1f8bd7f70>\n"
      ],
      "metadata": {
        "id": "ecubSk7GZKKp"
      }
    }
  ]
}