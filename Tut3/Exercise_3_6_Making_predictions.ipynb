{
  "nbformat": 4,
  "nbformat_minor": 0,
  "metadata": {
    "colab": {
      "provenance": [],
      "collapsed_sections": [
        "ApEGsGnec6BZ",
        "-AWPd5Wqft_d"
      ],
      "include_colab_link": true
    },
    "kernelspec": {
      "name": "python3",
      "display_name": "Python 3"
    },
    "language_info": {
      "name": "python"
    }
  },
  "cells": [
    {
      "cell_type": "markdown",
      "metadata": {
        "id": "view-in-github",
        "colab_type": "text"
      },
      "source": [
        "<a href=\"https://colab.research.google.com/github/wilfierd/ATI-tut/blob/main/Exercise_3_6_Making_predictions.ipynb\" target=\"_parent\"><img src=\"https://colab.research.google.com/assets/colab-badge.svg\" alt=\"Open In Colab\"/></a>"
      ]
    },
    {
      "cell_type": "markdown",
      "source": [
        "## Exercise 3.6 Making predictions\n"
      ],
      "metadata": {
        "id": "ApEGsGnec6BZ"
      }
    },
    {
      "cell_type": "markdown",
      "source": [
        "In this exercise, you will write code to use the trained model to make predictions on new data.\n",
        "\n",
        "You can download the titanic dataset from the following link:\n",
        "\n",
        "[titanic_all_numeric.csv](https://drive.google.com/file/d/11nuYS-l3EXCsGJt81y4YTt3oTnFGaB68/view?usp=drive_link)\n",
        "\n",
        "The data is pre-loaded into a pandas DataFrame called `df`. We will divide our data into two subsets: the first one (800 rows) for training and the second one (91 rows) for predictions using the trained model.\n",
        "\n",
        "The trained network from your previous coding exercise is now stored as model. New data to make predictions is stored in a NumPy array as `pred_data`. Use model to make predictions on your new data.\n",
        "\n",
        "In this exercise, your predictions will be probabilities, which is the most common way for data scientists to communicate their predictions to colleagues."
      ],
      "metadata": {
        "id": "mEOOH6NdV42q"
      }
    },
    {
      "cell_type": "markdown",
      "source": [
        "## Instructions"
      ],
      "metadata": {
        "id": "-AWPd5Wqft_d"
      }
    },
    {
      "cell_type": "markdown",
      "source": [
        "* Create your predictions using the model's `predict()` method on `pred_data`.\n",
        "* Use NumPy indexing to find the column corresponding to predicted probabilities of survival being `True`. This is the second column (index `1`) of `predictions`. Store the result in `predicted_prob_true` and print it."
      ],
      "metadata": {
        "id": "fNotC4abWBqN"
      }
    },
    {
      "cell_type": "markdown",
      "source": [
        "## Code"
      ],
      "metadata": {
        "id": "oKx-pAyrlVGO"
      }
    },
    {
      "cell_type": "markdown",
      "source": [
        "Load data and convert the data to NumPy array:"
      ],
      "metadata": {
        "id": "K2uQ5t2BRtpg"
      }
    },
    {
      "cell_type": "code",
      "execution_count": 58,
      "metadata": {
        "id": "dlu9wWcWcy44",
        "outputId": "79879cdb-6a05-43a7-97ca-f49b0a9e2113",
        "colab": {
          "base_uri": "https://localhost:8080/"
        }
      },
      "outputs": [
        {
          "output_type": "stream",
          "name": "stdout",
          "text": [
            "(891, 11)\n",
            "(800, 11)\n",
            "(91, 11)\n"
          ]
        },
        {
          "output_type": "stream",
          "name": "stderr",
          "text": [
            "/tmp/ipython-input-3641786829.py:8: FutureWarning: Downcasting behavior in `replace` is deprecated and will be removed in a future version. To retain the old behavior, explicitly call `result.infer_objects(copy=False)`. To opt-in to the future behavior, set `pd.set_option('future.no_silent_downcasting', True)`\n",
            "  df.age_was_missing = df.age_was_missing.replace({True: 1, False: 0})\n"
          ]
        }
      ],
      "source": [
        "import numpy as np\n",
        "import pandas as pd\n",
        "\n",
        "# Load csv file into the dataframe: df\n",
        "df = pd.read_csv(\"titanic_all_numeric.csv\")\n",
        "\n",
        "# Convert the boolean values of the 'age_was_missing' column to integer\n",
        "df.age_was_missing = df.age_was_missing.replace({True: 1, False: 0})\n",
        "\n",
        "# The dataframe df has 891 rows, we will divide df into two parts\n",
        "# The first 800 rows are used to create the predictors for training the model\n",
        "# Other 91 rows are used to create the pred_data for making predictions with the model\n",
        "trainDF = df.iloc[:800,:]\n",
        "predictDF = df.iloc[800:,:]\n",
        "print(df.shape)\n",
        "print(trainDF.shape)\n",
        "print(predictDF.shape)"
      ]
    },
    {
      "cell_type": "code",
      "source": [
        "# Import necessary modules\n",
        "from tensorflow.keras.layers import Dense\n",
        "from tensorflow.keras.models import Sequential\n",
        "from tensorflow.keras.utils import to_categorical\n",
        "\n",
        "# Create predictors NumPy array: predictors\n",
        "predictors = trainDF.drop(['survived'], axis=1).values\n",
        "\n",
        "# Save the number of columns in predictors: n_cols\n",
        "n_cols = predictors.shape[1]\n",
        "\n",
        "# Convert the target to categorical: target\n",
        "target = to_categorical(trainDF['survived'])\n",
        "\n",
        "# Create data for predictions NumPy array: pred_data\n",
        "pred_data = predictDF.drop(['survived'], axis=1).values\n"
      ],
      "metadata": {
        "id": "ZNXWyQam59OX"
      },
      "execution_count": 59,
      "outputs": []
    },
    {
      "cell_type": "markdown",
      "source": [
        "Create the neural network, then compile and fit the model"
      ],
      "metadata": {
        "id": "u986qJ_NOK1h"
      }
    },
    {
      "cell_type": "code",
      "source": [
        "# Specify, compile, and fit the model\n",
        "model = Sequential()\n",
        "model.add(Dense(32, activation='relu', input_shape = (n_cols,)))\n",
        "model.add(Dense(2, activation='softmax'))\n",
        "model.compile(optimizer='sgd',\n",
        "              loss='categorical_crossentropy',\n",
        "              metrics=['accuracy'])\n",
        "model.fit(predictors, target)\n"
      ],
      "metadata": {
        "id": "rdrPE2NrOjS5",
        "outputId": "af4cad5c-f7af-44b6-a9cc-726071d38c24",
        "colab": {
          "base_uri": "https://localhost:8080/"
        }
      },
      "execution_count": 60,
      "outputs": [
        {
          "output_type": "stream",
          "name": "stderr",
          "text": [
            "/usr/local/lib/python3.12/dist-packages/keras/src/layers/core/dense.py:93: UserWarning: Do not pass an `input_shape`/`input_dim` argument to a layer. When using Sequential models, prefer using an `Input(shape)` object as the first layer in the model instead.\n",
            "  super().__init__(activity_regularizer=activity_regularizer, **kwargs)\n"
          ]
        },
        {
          "output_type": "stream",
          "name": "stdout",
          "text": [
            "\u001b[1m25/25\u001b[0m \u001b[32m━━━━━━━━━━━━━━━━━━━━\u001b[0m\u001b[37m\u001b[0m \u001b[1m0s\u001b[0m 2ms/step - accuracy: 0.5624 - loss: 3.2603  \n"
          ]
        },
        {
          "output_type": "execute_result",
          "data": {
            "text/plain": [
              "<keras.src.callbacks.history.History at 0x7ca42a3c00b0>"
            ]
          },
          "metadata": {},
          "execution_count": 60
        }
      ]
    },
    {
      "cell_type": "markdown",
      "source": [
        "Create the predictions using the trained model"
      ],
      "metadata": {
        "id": "3_zqKZ4p8Jlk"
      }
    },
    {
      "cell_type": "code",
      "source": [
        "# Calculate predictions: predictions\n",
        "predictions = model.predict(pred_data)\n",
        "\n",
        "# Calculate predicted probability of survival: predicted_prob_true\n",
        "predicted_prob_true = predictions[:, 1]\n",
        "\n",
        "# Print predicted_prob_true\n",
        "print(predicted_prob_true)"
      ],
      "metadata": {
        "id": "w7epPF2A8VYR",
        "outputId": "c54d85bf-aead-49da-b9e8-742c64b48d30",
        "colab": {
          "base_uri": "https://localhost:8080/"
        }
      },
      "execution_count": 61,
      "outputs": [
        {
          "output_type": "stream",
          "name": "stdout",
          "text": [
            "\u001b[1m3/3\u001b[0m \u001b[32m━━━━━━━━━━━━━━━━━━━━\u001b[0m\u001b[37m\u001b[0m \u001b[1m0s\u001b[0m 21ms/step\n",
            "[0.5197397  0.9329555  0.99994487 0.38707617 0.5721404  0.55670613\n",
            " 0.27620664 0.6749153  0.49300364 0.99876547 0.58370435 0.8401068\n",
            " 0.49658436 0.81887364 0.5612762  0.40016773 0.6519882  0.9859503\n",
            " 0.4848969  0.84376913 0.9999793  0.58387315 0.2838002  0.6045708\n",
            " 0.8451738  0.6587166  0.997997   0.85123116 0.6638248  0.99995595\n",
            " 0.86726516 0.7118437  0.58604383 0.5989859  0.6416516  0.99987555\n",
            " 0.61469215 0.65522254 0.99825996 0.9584601  0.61478066 0.70517504\n",
            " 0.9696279  0.48197213 0.68534654 0.48987505 0.99671745 0.47284672\n",
            " 0.98188907 0.99990326 0.7586072  0.24168746 0.7659411  0.9886458\n",
            " 0.87136513 0.6615018  0.99999994 0.6781047  0.7984787  0.58604383\n",
            " 0.6769367  0.72640634 0.7611515  0.9968825  0.6905962  0.53303933\n",
            " 0.726539   0.99790204 0.6644991  0.5945212  0.5837618  0.9982357\n",
            " 0.3800351  0.4736603  0.9226301  0.6855163  0.67322063 0.61963946\n",
            " 0.654229   0.9999631  0.9585952  0.5469745  0.7062102  0.53397745\n",
            " 0.58310246 0.78006464 0.6137892  0.9810254  0.90727574 0.9672436\n",
            " 0.56280553]\n"
          ]
        }
      ]
    },
    {
      "cell_type": "markdown",
      "source": [
        "The ouput should be:\n",
        "\n",
        "3/3 ━━━━━━━━━━━━━━━━━━━━ 0s 17ms/step\n",
        "\n",
        "[0.67805415 0.67400146 0.9999853  0.3875375  0.5985795  0.6164698\n",
        " 0.89714897 0.5290434  0.694053   0.883478   0.5992863  0.7111521\n",
        " 0.670607   0.6320936  0.6159816  0.85379726 0.54823047 0.7421135\n",
        " 0.6533071  0.54122615 0.97659034 0.60646343 0.8911979  0.6048734\n",
        " 0.88516706 0.62198186 0.91774607 0.9476062  0.62564427 0.93983597\n",
        " 0.50025886 0.71690863 0.59585077 0.58837867 0.5724051  0.9671306\n",
        " 0.5849963  0.61918813 0.9129218  0.784304   0.57787883 0.6095583\n",
        " 0.75754553 0.60315263 0.5694081  0.65394723 0.7943384  0.6117081\n",
        " 0.77466637 0.9892311  0.6483037  0.77982235 0.47878534 0.8670235\n",
        " 0.6792838  0.55752456 0.999963   0.79640836 0.6378785  0.59585077\n",
        " 0.588558   0.58213407 0.7576602  0.80326736 0.6440964  0.6678745\n",
        " 0.5529083  0.89298415 0.62583524 0.46835485 0.59932536 0.8583759\n",
        " 0.6688276  0.67672044 0.6243774  0.49477854 0.5868015  0.5741109\n",
        " 0.61847866 0.9318947  0.7129401  0.6240244  0.55705667 0.6472381\n",
        " 0.591772   0.7761354  0.6546704  0.77318966 0.6351063  0.7619014\n",
        " 0.62768227]\n"
      ],
      "metadata": {
        "id": "ecubSk7GZKKp"
      }
    }
  ]
}